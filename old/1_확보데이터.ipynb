{
 "cells": [
  {
   "cell_type": "code",
   "execution_count": 5,
   "id": "eb07c8bc",
   "metadata": {},
   "outputs": [],
   "source": [
    "import FinanceDataReader as fdr\n",
    "import pandas as pd"
   ]
  },
  {
   "cell_type": "markdown",
   "id": "e03749db",
   "metadata": {},
   "source": [
    "#### 1) 명목환율 확보  "
   ]
  },
  {
   "cell_type": "code",
   "execution_count": 3,
   "id": "c3838987",
   "metadata": {},
   "outputs": [],
   "source": [
    "df_cadkrw = fdr.DataReader('CAD/KRW', '1995')\n",
    "df_cadusd = fdr.DataReader('CAD/USD', '1995')\n",
    "df_usdkrw = fdr.DataReader('USD/KRW', '1995')"
   ]
  },
  {
   "cell_type": "code",
   "execution_count": null,
   "id": "98a85c5e",
   "metadata": {},
   "outputs": [],
   "source": [
    "df_cadkrw.to_excel('./data/fds/df_cadkrw.xlsx')\n",
    "df_cadusd.to_excel('./data/fds/df_cadusd.xlsx')\n",
    "df_usdkrw.to_excel('./data/fds/df_usdkrw.xlsx')"
   ]
  },
  {
   "cell_type": "markdown",
   "id": "fe16fd45",
   "metadata": {},
   "source": [
    "#### 2) World bank Data"
   ]
  },
  {
   "cell_type": "markdown",
   "id": "9a2cd446",
   "metadata": {},
   "source": [
    "\n",
    "https://data.worldbank.org/indicator/PA.NUS.PPPC.RF?locations=CA"
   ]
  },
  {
   "cell_type": "code",
   "execution_count": 6,
   "id": "b118dc78",
   "metadata": {},
   "outputs": [],
   "source": [
    "# ppp 환율\n",
    "df_ppp = pd.read_excel('./data/wb/PPP_XR.xls')\n",
    "# 실질환율\n",
    "df_realxr = pd.read_excel('./data/wb/REAL_XR.xls')\n",
    "# gdp\n",
    "df_gdp = pd.read_excel('./data/wb/GDP.xls')\n",
    "# gdp 연증가율\n",
    "df_gdp_g = pd.read_excel('./data/wb/GDP_growth.xls')\n",
    "# 인구증가율대비gdp 증가율\n",
    "df_gdp_pcg = pd.read_excel('./data/wb/GDP_per_capita_growth.xls')"
   ]
  },
  {
   "cell_type": "markdown",
   "id": "7e97e7b3",
   "metadata": {},
   "source": [
    "ㅇ 2019.2분기 기준 캐나다 경제는 서비스업 71% 및 제조업 29%로 구분되며, ①부동산 산업(12.7%) ②제조업 (10.3%) ③에너지 산업 (9.2%) ④건설업 (7.0%), 금융·보험 산업(6.6%) 등이 경제에서 차지하는 비중이 높음."
   ]
  },
  {
   "cell_type": "markdown",
   "id": "9f3884db",
   "metadata": {},
   "source": [
    "https://kosis.kr/statHtml/statHtml.do?orgId=101&tblId=DT_2KAA906_OECD"
   ]
  },
  {
   "cell_type": "markdown",
   "id": "897155c9",
   "metadata": {},
   "source": [
    "#### 3) Deep Search Data"
   ]
  },
  {
   "cell_type": "code",
   "execution_count": 7,
   "id": "713ce6b9",
   "metadata": {},
   "outputs": [],
   "source": [
    "import os"
   ]
  },
  {
   "cell_type": "code",
   "execution_count": 8,
   "id": "6ea9d67d",
   "metadata": {
    "scrolled": true
   },
   "outputs": [
    {
     "data": {
      "text/plain": [
       "['DeepSearch-Chart-Export-Market Yield on U S  Treasury Securities at 1-Year Constant Maturity  Quoted on an Investment Basis.xlsx',\n",
       " 'DeepSearch-Chart-Export-국제 주요국 경상수지 - 미국.xlsx',\n",
       " 'DeepSearch-Chart-Export-국제 주요국 경상수지 - 캐나다.xlsx',\n",
       " 'DeepSearch-Chart-Export-국제 주요국 생산자물가지수 - 미국.xlsx',\n",
       " 'DeepSearch-Chart-Export-국제 주요국 생산자물가지수 - 캐나다.xlsx',\n",
       " 'DeepSearch-Chart-Export-국제 주요국 서비스수지 - 캐나다.xlsx',\n",
       " 'DeepSearch-Chart-Export-국제 주요국 소비자물가지수 - 미국.xlsx',\n",
       " 'DeepSearch-Chart-Export-국제 주요국 소비자물가지수 - 캐나다.xlsx',\n",
       " 'DeepSearch-Chart-Export-국제 주요국 소비자물가지수 - 한국.xlsx',\n",
       " 'DeepSearch-Chart-Export-국제 주요국 실업률 계절변동조정  - 미국.xlsx',\n",
       " 'DeepSearch-Chart-Export-국제 주요국 실업률 계절변동조정  - 캐나다.xlsx',\n",
       " 'DeepSearch-Chart-Export-국제 주요국 실업률 계절변동조정  - 한국.xlsx',\n",
       " 'DeepSearch-Chart-Export-국제 주요국 외환보유액 - 중국.xlsx',\n",
       " 'DeepSearch-Chart-Export-국제 주요국 외환보유액 - 캐나다.xlsx',\n",
       " 'DeepSearch-Chart-Export-국제 주요국 외환보유액 - 한국.xlsx',\n",
       " 'DeepSearch-Chart-Export-국제 주요국 중앙은행 정책금리 - 미국.xlsx',\n",
       " 'DeepSearch-Chart-Export-국제 주요국 중앙은행 정책금리 - 캐나다.xlsx',\n",
       " 'DeepSearch-Chart-Export-국제상품가격 - 금 현물.xlsx',\n",
       " 'DeepSearch-Chart-Export-국제수지 - 경상수지.xlsx',\n",
       " 'DeepSearch-Chart-Export-생산자물가지수 품목별  - 총지수.xlsx',\n",
       " 'DeepSearch-Chart-Export-시장금리 일별  - 국고채 1년.xlsx',\n",
       " 'DeepSearch-Chart-Export-주요국 통화의 대미달러환율 - 캐나다달러 달러.xlsx',\n",
       " 'DeepSearch-Chart-Export-주요국 통화의 대원화환율 - 원 미국달러 매매기준율.xlsx',\n",
       " 'DeepSearch-Chart-Export-주요국 통화의 대원화환율 - 원 캐나다달러.xlsx',\n",
       " 'DeepSearch-Chart-Export-한국은행 기준금리 및 여수신금리 - 한국은행 기준금리.xlsx']"
      ]
     },
     "execution_count": 8,
     "metadata": {},
     "output_type": "execute_result"
    }
   ],
   "source": [
    "os.listdir('./data/ds')"
   ]
  },
  {
   "cell_type": "markdown",
   "id": "64428425",
   "metadata": {},
   "source": [
    "> 확보 정보  \n",
    "환율(한국/미국/캐나다 3cross)\n",
    "경상수지(한국/미국/캐나다) => 수입/수출 분리도 가능할듯 ?  \n",
    "생산자물가지수(한국/미국/캐나다)  => 총지수가 해당 내용인지 확인 필요  \n",
    "소비자물가지수(한국/미국/캐나다)  \n",
    "실업율(한국/미국/캐나다)  \n",
    "기준금리(한국/미국/캐나다)  \n",
    "국고채 1년물(한국/미국/-) => 뭐라 찾을지 모르겠음  \n",
    "금 현물.. 이건 나라별로 안되나?  \n",
    "서비스수지(-/-/캐나다) => 대부분 주요 gdp비중이 서비스업이라.. 찾아볼까 했는데 의미 없을듯  \n",
    "외환보유액(한국/캐나다/-/중국)  => 그냥 중국 넣어봄  \n",
    "주요무역국의 거시지표를 포함시키면?(EU/중국)  \n",
    "\n"
   ]
  }
 ],
 "metadata": {
  "jupytext": {
   "formats": "ipynb,auto:light"
  },
  "kernelspec": {
   "display_name": "Python 3 (ipykernel)",
   "language": "python",
   "name": "python3"
  },
  "language_info": {
   "codemirror_mode": {
    "name": "ipython",
    "version": 3
   },
   "file_extension": ".py",
   "mimetype": "text/x-python",
   "name": "python",
   "nbconvert_exporter": "python",
   "pygments_lexer": "ipython3",
   "version": "3.9.12"
  }
 },
 "nbformat": 4,
 "nbformat_minor": 5
}
