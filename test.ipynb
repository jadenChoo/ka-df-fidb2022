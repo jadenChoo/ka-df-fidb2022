{
 "cells": [
  {
   "cell_type": "code",
   "execution_count": 1,
   "id": "07bccad4",
   "metadata": {},
   "outputs": [
    {
     "name": "stdout",
     "output_type": "stream",
     "text": [
      "Hello World\n"
     ]
    }
   ],
   "source": [
    "import pandas as pd\n",
    "print (\"Hello World\")"
   ]
  },
  {
   "cell_type": "code",
   "execution_count": 1,
   "id": "1472c1d6",
   "metadata": {},
   "outputs": [
    {
     "name": "stdout",
     "output_type": "stream",
     "text": [
      "20223910 test\n"
     ]
    }
   ],
   "source": [
    "print (\"20223910 test\")"
   ]
  },
  {
   "cell_type": "code",
   "execution_count": null,
   "id": "125c86cb",
   "metadata": {},
   "outputs": [],
   "source": []
  }
 ],
 "metadata": {
  "jupytext": {
   "formats": "ipynb,auto:light"
  },
  "kernelspec": {
   "display_name": "Python 3.9.13 64-bit",
   "language": "python",
   "name": "python3"
  },
  "language_info": {
   "codemirror_mode": {
    "name": "ipython",
    "version": 3
   },
   "file_extension": ".py",
   "mimetype": "text/x-python",
   "name": "python",
   "nbconvert_exporter": "python",
   "pygments_lexer": "ipython3",
   "version": "3.9.13"
  },
  "vscode": {
   "interpreter": {
    "hash": "b5697ac05f88a0d5286f8542395e5de10abf5fe3e1713bd3e7f73acd051c635c"
   }
  }
 },
 "nbformat": 4,
 "nbformat_minor": 5
}
