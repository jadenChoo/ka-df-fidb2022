{
 "cells": [
  {
   "cell_type": "code",
   "execution_count": 1,
   "id": "f3c1b5b4",
   "metadata": {},
   "outputs": [],
   "source": [
    "import os\n",
    "from pandas.tseries.offsets import YearEnd\n",
    "from sklearn.preprocessing import MinMaxScaler\n",
    "import numpy as np\n",
    "import seaborn as sns\n",
    "import pandas as pd\n",
    "import numpy as np\n",
    "from matplotlib import font_manager, rc\n",
    "import matplotlib.pyplot as plt\n",
    "sns.set_theme(style=\"darkgrid\")\n",
    "font_path = \"C:/Windows/Fonts/NGULIM.TTF\"\n",
    "font = font_manager.FontProperties(fname=font_path).get_name()\n",
    "rc('font', family=font)"
   ]
  },
  {
   "cell_type": "markdown",
   "id": "39fc668d",
   "metadata": {},
   "source": [
    "# 1. 데이터 입수   \n",
    "---"
   ]
  },
  {
   "cell_type": "markdown",
   "id": "76ea91d0",
   "metadata": {},
   "source": [
    "## 1-1) World Bank Data  "
   ]
  },
  {
   "cell_type": "markdown",
   "id": "869a05de",
   "metadata": {},
   "source": [
    "- ppp xr  \n",
    "- gdp constant \n",
    "- gdp current\n",
    "- gdp growth  "
   ]
  },
  {
   "cell_type": "code",
   "execution_count": 2,
   "id": "7dd5d91b",
   "metadata": {},
   "outputs": [],
   "source": [
    "def load_world_bank_data(filepath, col_name, countries = ['KOR','CAN','USA']):\n",
    "    df = pd.read_excel(filepath, sheet_name = 'Data', skiprows = 3)\n",
    "    df = df.set_index('Country Code')\n",
    "    dfs = []\n",
    "    for country in countries:\n",
    "        cntry_df = df.loc[country].to_frame()\n",
    "        cntry_df = cntry_df.iloc[3:]\n",
    "        cntry_df = cntry_df.dropna()\n",
    "        cntry_df[country] = cntry_df[country].astype('float')\n",
    "        cntry_df['date'] = pd.to_datetime(cntry_df.index) + YearEnd(0) # 자동으로 날짜별로 게산  + 연말일자 \n",
    "        cntry_df = cntry_df.set_index('date')\n",
    "        cntry_df.columns = [col_name + '_' + country]\n",
    "        dfs.append(cntry_df)\n",
    "    dfs = pd.concat(dfs, axis = 1)\n",
    "    return dfs"
   ]
  },
  {
   "cell_type": "code",
   "execution_count": 3,
   "id": "3243de1a",
   "metadata": {},
   "outputs": [],
   "source": [
    "filepaths = f'./data/wb/'\n",
    "wb_dfs = []\n",
    "files = os.listdir(filepaths)\n",
    "for file in files:\n",
    "    wb_df = load_world_bank_data(filepaths + file, file.split('.')[0])\n",
    "    wb_dfs.append(wb_df)\n",
    "wb_dfs = pd.concat(wb_dfs,axis = 1)"
   ]
  },
  {
   "cell_type": "code",
   "execution_count": 4,
   "id": "5b432a4d",
   "metadata": {},
   "outputs": [
    {
     "data": {
      "text/html": [
       "<div>\n",
       "<style scoped>\n",
       "    .dataframe tbody tr th:only-of-type {\n",
       "        vertical-align: middle;\n",
       "    }\n",
       "\n",
       "    .dataframe tbody tr th {\n",
       "        vertical-align: top;\n",
       "    }\n",
       "\n",
       "    .dataframe thead th {\n",
       "        text-align: right;\n",
       "    }\n",
       "</style>\n",
       "<table border=\"1\" class=\"dataframe\">\n",
       "  <thead>\n",
       "    <tr style=\"text-align: right;\">\n",
       "      <th></th>\n",
       "      <th>GDP_CONSTANT_KOR</th>\n",
       "      <th>GDP_CONSTANT_CAN</th>\n",
       "      <th>GDP_CONSTANT_USA</th>\n",
       "      <th>GDP_CURRENT_KOR</th>\n",
       "      <th>GDP_CURRENT_CAN</th>\n",
       "      <th>GDP_CURRENT_USA</th>\n",
       "      <th>GDP_GROWTH_KOR</th>\n",
       "      <th>GDP_GROWTH_CAN</th>\n",
       "      <th>GDP_GROWTH_USA</th>\n",
       "      <th>PPP_XR_KOR</th>\n",
       "      <th>PPP_XR_CAN</th>\n",
       "      <th>PPP_XR_USA</th>\n",
       "    </tr>\n",
       "    <tr>\n",
       "      <th>date</th>\n",
       "      <th></th>\n",
       "      <th></th>\n",
       "      <th></th>\n",
       "      <th></th>\n",
       "      <th></th>\n",
       "      <th></th>\n",
       "      <th></th>\n",
       "      <th></th>\n",
       "      <th></th>\n",
       "      <th></th>\n",
       "      <th></th>\n",
       "      <th></th>\n",
       "    </tr>\n",
       "  </thead>\n",
       "  <tbody>\n",
       "    <tr>\n",
       "      <th>1960-12-31</th>\n",
       "      <td>2.907010e+13</td>\n",
       "      <td>3.258950e+11</td>\n",
       "      <td>3.457188e+12</td>\n",
       "      <td>3.958191e+09</td>\n",
       "      <td>4.046172e+10</td>\n",
       "      <td>5.433000e+11</td>\n",
       "      <td>NaN</td>\n",
       "      <td>NaN</td>\n",
       "      <td>NaN</td>\n",
       "      <td>NaN</td>\n",
       "      <td>NaN</td>\n",
       "      <td>NaN</td>\n",
       "    </tr>\n",
       "    <tr>\n",
       "      <th>1961-12-31</th>\n",
       "      <td>3.108640e+13</td>\n",
       "      <td>3.362040e+11</td>\n",
       "      <td>3.536703e+12</td>\n",
       "      <td>2.417558e+09</td>\n",
       "      <td>4.093495e+10</td>\n",
       "      <td>5.633000e+11</td>\n",
       "      <td>6.935993</td>\n",
       "      <td>3.163292</td>\n",
       "      <td>2.3</td>\n",
       "      <td>NaN</td>\n",
       "      <td>NaN</td>\n",
       "      <td>NaN</td>\n",
       "    </tr>\n",
       "    <tr>\n",
       "      <th>1962-12-31</th>\n",
       "      <td>3.229730e+13</td>\n",
       "      <td>3.611684e+11</td>\n",
       "      <td>3.752442e+12</td>\n",
       "      <td>2.814319e+09</td>\n",
       "      <td>4.222745e+10</td>\n",
       "      <td>6.051000e+11</td>\n",
       "      <td>3.895273</td>\n",
       "      <td>7.425385</td>\n",
       "      <td>6.1</td>\n",
       "      <td>NaN</td>\n",
       "      <td>NaN</td>\n",
       "      <td>NaN</td>\n",
       "    </tr>\n",
       "  </tbody>\n",
       "</table>\n",
       "</div>"
      ],
      "text/plain": [
       "            GDP_CONSTANT_KOR  GDP_CONSTANT_CAN  GDP_CONSTANT_USA  \\\n",
       "date                                                               \n",
       "1960-12-31      2.907010e+13      3.258950e+11      3.457188e+12   \n",
       "1961-12-31      3.108640e+13      3.362040e+11      3.536703e+12   \n",
       "1962-12-31      3.229730e+13      3.611684e+11      3.752442e+12   \n",
       "\n",
       "            GDP_CURRENT_KOR  GDP_CURRENT_CAN  GDP_CURRENT_USA  GDP_GROWTH_KOR  \\\n",
       "date                                                                            \n",
       "1960-12-31     3.958191e+09     4.046172e+10     5.433000e+11             NaN   \n",
       "1961-12-31     2.417558e+09     4.093495e+10     5.633000e+11        6.935993   \n",
       "1962-12-31     2.814319e+09     4.222745e+10     6.051000e+11        3.895273   \n",
       "\n",
       "            GDP_GROWTH_CAN  GDP_GROWTH_USA  PPP_XR_KOR  PPP_XR_CAN  PPP_XR_USA  \n",
       "date                                                                            \n",
       "1960-12-31             NaN             NaN         NaN         NaN         NaN  \n",
       "1961-12-31        3.163292             2.3         NaN         NaN         NaN  \n",
       "1962-12-31        7.425385             6.1         NaN         NaN         NaN  "
      ]
     },
     "execution_count": 4,
     "metadata": {},
     "output_type": "execute_result"
    }
   ],
   "source": [
    "wb_dfs.head(3)"
   ]
  },
  {
   "cell_type": "markdown",
   "id": "3c0f0788",
   "metadata": {},
   "source": [
    "> World Bank 데이터는 Annual 데이터만 제공  \n",
    "> 실질 GDP 단위가 이상합니다 "
   ]
  },
  {
   "cell_type": "markdown",
   "id": "4d0e9f8b",
   "metadata": {},
   "source": [
    "## 1-2) Deep Search Data"
   ]
  },
  {
   "cell_type": "markdown",
   "id": "7b58a38e",
   "metadata": {},
   "source": [
    "- GDP\n",
    "- 경제성장율\n",
    "  \n",
    "  \n",
    "- 경상수지\n",
    "- 국채1년물\n",
    "- 기준금리\n",
    "- PPI\n",
    "- CPI\n",
    "- 실업률\n",
    "- 외환보유액\n",
    "- 환율"
   ]
  },
  {
   "cell_type": "code",
   "execution_count": 5,
   "id": "c746e352",
   "metadata": {},
   "outputs": [],
   "source": [
    "def load_deepsearch_data(filepath, col_name):\n",
    "    df = pd.read_excel(filepath)\n",
    "    df.columns = ['date', col_name]\n",
    "    df['date'] = pd.to_datetime(df['date'])\n",
    "    df = df.set_index('date')\n",
    "    return df"
   ]
  },
  {
   "cell_type": "code",
   "execution_count": 6,
   "id": "bf73f397",
   "metadata": {},
   "outputs": [],
   "source": [
    "filepath = f'./data/ds/'\n",
    "ds_dfs = []\n",
    "for file in os.listdir(filepath):\n",
    "    ds_df = load_deepsearch_data(filepath + file, file.split('.')[0])\n",
    "    ds_dfs.append(ds_df)\n",
    "ds_dfs = pd.concat(ds_dfs, axis = 1)    "
   ]
  },
  {
   "cell_type": "markdown",
   "id": "2af4d99b",
   "metadata": {},
   "source": [
    "#### Check) WB/DS Data Validation  \n",
    "- 딥서치 제공 gdp 성격 확인  "
   ]
  },
  {
   "cell_type": "code",
   "execution_count": 7,
   "id": "4a3c7eae",
   "metadata": {},
   "outputs": [
    {
     "name": "stdout",
     "output_type": "stream",
     "text": [
      "Deep Search gdp      : 1637895.8\n",
      "World Bank  명목 gdp : 1637895802792.8965\n",
      "World Bank  실질 gdp : 1836881100000000.0\n"
     ]
    }
   ],
   "source": [
    "print('Deep Search gdp      : {}'.format(ds_dfs.loc['2020-12-31','GDP_한국']))\n",
    "print('World Bank  명목 gdp : {}'.format(wb_dfs.loc['2020-12-31','GDP_CURRENT_KOR']))\n",
    "print('World Bank  실질 gdp : {}'.format(wb_dfs.loc['2020-12-31','GDP_CONSTANT_KOR']))"
   ]
  },
  {
   "cell_type": "markdown",
   "id": "147b4722",
   "metadata": {},
   "source": [
    "> 딥서치 GDP 정보는 명목 총생산금액임."
   ]
  },
  {
   "cell_type": "markdown",
   "id": "6eb00a7a",
   "metadata": {},
   "source": [
    "* 경제성장율은?  \n",
    "- world bank gdp growth 는 실질 gdp 기준으로 산출  "
   ]
  },
  {
   "cell_type": "code",
   "execution_count": 8,
   "id": "9e541fa7",
   "metadata": {},
   "outputs": [
    {
     "data": {
      "text/plain": [
       "date\n",
       "2021-03-31    1.7\n",
       "2021-06-30    0.8\n",
       "2021-09-30    0.3\n",
       "2021-12-31    1.2\n",
       "Name: 경제성장율_한국, dtype: float64"
      ]
     },
     "execution_count": 8,
     "metadata": {},
     "output_type": "execute_result"
    }
   ],
   "source": [
    "ds_dfs.loc['2021-01-31':'2021-12-31','경제성장율_한국'].dropna()"
   ]
  },
  {
   "cell_type": "code",
   "execution_count": 9,
   "id": "79cb77e4",
   "metadata": {},
   "outputs": [
    {
     "data": {
      "text/html": [
       "<div>\n",
       "<style scoped>\n",
       "    .dataframe tbody tr th:only-of-type {\n",
       "        vertical-align: middle;\n",
       "    }\n",
       "\n",
       "    .dataframe tbody tr th {\n",
       "        vertical-align: top;\n",
       "    }\n",
       "\n",
       "    .dataframe thead th {\n",
       "        text-align: right;\n",
       "    }\n",
       "</style>\n",
       "<table border=\"1\" class=\"dataframe\">\n",
       "  <thead>\n",
       "    <tr style=\"text-align: right;\">\n",
       "      <th></th>\n",
       "      <th>GDP_GROWTH_KOR</th>\n",
       "    </tr>\n",
       "    <tr>\n",
       "      <th>date</th>\n",
       "      <th></th>\n",
       "    </tr>\n",
       "  </thead>\n",
       "  <tbody>\n",
       "    <tr>\n",
       "      <th>2017-12-31</th>\n",
       "      <td>3.159636</td>\n",
       "    </tr>\n",
       "    <tr>\n",
       "      <th>2018-12-31</th>\n",
       "      <td>2.907404</td>\n",
       "    </tr>\n",
       "    <tr>\n",
       "      <th>2019-12-31</th>\n",
       "      <td>2.243978</td>\n",
       "    </tr>\n",
       "    <tr>\n",
       "      <th>2020-12-31</th>\n",
       "      <td>-0.852031</td>\n",
       "    </tr>\n",
       "    <tr>\n",
       "      <th>2021-12-31</th>\n",
       "      <td>4.021158</td>\n",
       "    </tr>\n",
       "  </tbody>\n",
       "</table>\n",
       "</div>"
      ],
      "text/plain": [
       "            GDP_GROWTH_KOR\n",
       "date                      \n",
       "2017-12-31        3.159636\n",
       "2018-12-31        2.907404\n",
       "2019-12-31        2.243978\n",
       "2020-12-31       -0.852031\n",
       "2021-12-31        4.021158"
      ]
     },
     "execution_count": 9,
     "metadata": {},
     "output_type": "execute_result"
    }
   ],
   "source": [
    "wb_dfs[['GDP_GROWTH_KOR']].dropna().tail(5)"
   ]
  },
  {
   "cell_type": "markdown",
   "id": "26a4ba4d",
   "metadata": {},
   "source": [
    "> 딥서치 경제성장율은 실질gdp의 성장율, 단 분기별 성장율이 집계 되어 있음  "
   ]
  },
  {
   "cell_type": "markdown",
   "id": "0f7b35d2",
   "metadata": {},
   "source": [
    "## 1-3) Merge and Imputation"
   ]
  },
  {
   "cell_type": "code",
   "execution_count": 10,
   "id": "18f0ddbb",
   "metadata": {},
   "outputs": [],
   "source": [
    "full_df = pd.concat([ds_dfs, wb_dfs], axis = 1)"
   ]
  },
  {
   "cell_type": "code",
   "execution_count": 11,
   "id": "70ced82f",
   "metadata": {},
   "outputs": [
    {
     "data": {
      "text/html": [
       "<div>\n",
       "<style scoped>\n",
       "    .dataframe tbody tr th:only-of-type {\n",
       "        vertical-align: middle;\n",
       "    }\n",
       "\n",
       "    .dataframe tbody tr th {\n",
       "        vertical-align: top;\n",
       "    }\n",
       "\n",
       "    .dataframe thead th {\n",
       "        text-align: right;\n",
       "    }\n",
       "</style>\n",
       "<table border=\"1\" class=\"dataframe\">\n",
       "  <thead>\n",
       "    <tr style=\"text-align: right;\">\n",
       "      <th></th>\n",
       "      <th>GDP_미국</th>\n",
       "      <th>GDP_캐나다</th>\n",
       "      <th>GDP_한국</th>\n",
       "      <th>경상수지_미국</th>\n",
       "      <th>경상수지_캐나다</th>\n",
       "      <th>경상수지_한국</th>\n",
       "      <th>경제성장율_미국</th>\n",
       "      <th>경제성장율_캐나다</th>\n",
       "      <th>경제성장율_한국</th>\n",
       "      <th>국채1년물_미국</th>\n",
       "      <th>...</th>\n",
       "      <th>GDP_CONSTANT_USA</th>\n",
       "      <th>GDP_CURRENT_KOR</th>\n",
       "      <th>GDP_CURRENT_CAN</th>\n",
       "      <th>GDP_CURRENT_USA</th>\n",
       "      <th>GDP_GROWTH_KOR</th>\n",
       "      <th>GDP_GROWTH_CAN</th>\n",
       "      <th>GDP_GROWTH_USA</th>\n",
       "      <th>PPP_XR_KOR</th>\n",
       "      <th>PPP_XR_CAN</th>\n",
       "      <th>PPP_XR_USA</th>\n",
       "    </tr>\n",
       "    <tr>\n",
       "      <th>date</th>\n",
       "      <th></th>\n",
       "      <th></th>\n",
       "      <th></th>\n",
       "      <th></th>\n",
       "      <th></th>\n",
       "      <th></th>\n",
       "      <th></th>\n",
       "      <th></th>\n",
       "      <th></th>\n",
       "      <th></th>\n",
       "      <th></th>\n",
       "      <th></th>\n",
       "      <th></th>\n",
       "      <th></th>\n",
       "      <th></th>\n",
       "      <th></th>\n",
       "      <th></th>\n",
       "      <th></th>\n",
       "      <th></th>\n",
       "      <th></th>\n",
       "      <th></th>\n",
       "    </tr>\n",
       "  </thead>\n",
       "  <tbody>\n",
       "    <tr>\n",
       "      <th>1920-01-31</th>\n",
       "      <td>NaN</td>\n",
       "      <td>NaN</td>\n",
       "      <td>NaN</td>\n",
       "      <td>NaN</td>\n",
       "      <td>NaN</td>\n",
       "      <td>NaN</td>\n",
       "      <td>NaN</td>\n",
       "      <td>NaN</td>\n",
       "      <td>NaN</td>\n",
       "      <td>NaN</td>\n",
       "      <td>...</td>\n",
       "      <td>NaN</td>\n",
       "      <td>NaN</td>\n",
       "      <td>NaN</td>\n",
       "      <td>NaN</td>\n",
       "      <td>NaN</td>\n",
       "      <td>NaN</td>\n",
       "      <td>NaN</td>\n",
       "      <td>NaN</td>\n",
       "      <td>NaN</td>\n",
       "      <td>NaN</td>\n",
       "    </tr>\n",
       "    <tr>\n",
       "      <th>1920-02-29</th>\n",
       "      <td>NaN</td>\n",
       "      <td>NaN</td>\n",
       "      <td>NaN</td>\n",
       "      <td>NaN</td>\n",
       "      <td>NaN</td>\n",
       "      <td>NaN</td>\n",
       "      <td>NaN</td>\n",
       "      <td>NaN</td>\n",
       "      <td>NaN</td>\n",
       "      <td>NaN</td>\n",
       "      <td>...</td>\n",
       "      <td>NaN</td>\n",
       "      <td>NaN</td>\n",
       "      <td>NaN</td>\n",
       "      <td>NaN</td>\n",
       "      <td>NaN</td>\n",
       "      <td>NaN</td>\n",
       "      <td>NaN</td>\n",
       "      <td>NaN</td>\n",
       "      <td>NaN</td>\n",
       "      <td>NaN</td>\n",
       "    </tr>\n",
       "    <tr>\n",
       "      <th>1920-03-31</th>\n",
       "      <td>NaN</td>\n",
       "      <td>NaN</td>\n",
       "      <td>NaN</td>\n",
       "      <td>NaN</td>\n",
       "      <td>NaN</td>\n",
       "      <td>NaN</td>\n",
       "      <td>NaN</td>\n",
       "      <td>NaN</td>\n",
       "      <td>NaN</td>\n",
       "      <td>NaN</td>\n",
       "      <td>...</td>\n",
       "      <td>NaN</td>\n",
       "      <td>NaN</td>\n",
       "      <td>NaN</td>\n",
       "      <td>NaN</td>\n",
       "      <td>NaN</td>\n",
       "      <td>NaN</td>\n",
       "      <td>NaN</td>\n",
       "      <td>NaN</td>\n",
       "      <td>NaN</td>\n",
       "      <td>NaN</td>\n",
       "    </tr>\n",
       "  </tbody>\n",
       "</table>\n",
       "<p>3 rows × 41 columns</p>\n",
       "</div>"
      ],
      "text/plain": [
       "            GDP_미국  GDP_캐나다  GDP_한국  경상수지_미국  경상수지_캐나다  경상수지_한국  경제성장율_미국  \\\n",
       "date                                                                        \n",
       "1920-01-31     NaN      NaN     NaN      NaN       NaN      NaN       NaN   \n",
       "1920-02-29     NaN      NaN     NaN      NaN       NaN      NaN       NaN   \n",
       "1920-03-31     NaN      NaN     NaN      NaN       NaN      NaN       NaN   \n",
       "\n",
       "            경제성장율_캐나다  경제성장율_한국  국채1년물_미국  ...  GDP_CONSTANT_USA  \\\n",
       "date                                       ...                     \n",
       "1920-01-31        NaN       NaN       NaN  ...               NaN   \n",
       "1920-02-29        NaN       NaN       NaN  ...               NaN   \n",
       "1920-03-31        NaN       NaN       NaN  ...               NaN   \n",
       "\n",
       "            GDP_CURRENT_KOR  GDP_CURRENT_CAN  GDP_CURRENT_USA  GDP_GROWTH_KOR  \\\n",
       "date                                                                            \n",
       "1920-01-31              NaN              NaN              NaN             NaN   \n",
       "1920-02-29              NaN              NaN              NaN             NaN   \n",
       "1920-03-31              NaN              NaN              NaN             NaN   \n",
       "\n",
       "            GDP_GROWTH_CAN  GDP_GROWTH_USA  PPP_XR_KOR  PPP_XR_CAN  PPP_XR_USA  \n",
       "date                                                                            \n",
       "1920-01-31             NaN             NaN         NaN         NaN         NaN  \n",
       "1920-02-29             NaN             NaN         NaN         NaN         NaN  \n",
       "1920-03-31             NaN             NaN         NaN         NaN         NaN  \n",
       "\n",
       "[3 rows x 41 columns]"
      ]
     },
     "execution_count": 11,
     "metadata": {},
     "output_type": "execute_result"
    }
   ],
   "source": [
    "full_df.head(3)"
   ]
  },
  {
   "cell_type": "code",
   "execution_count": 12,
   "id": "92ba9045",
   "metadata": {},
   "outputs": [],
   "source": [
    "# 월말 데이터만 남겨두고 \n",
    "full_df = full_df.resample('M').last()"
   ]
  },
  {
   "cell_type": "code",
   "execution_count": 13,
   "id": "a70610e9",
   "metadata": {},
   "outputs": [],
   "source": [
    "full_df = full_df.fillna(method = 'ffill')"
   ]
  },
  {
   "cell_type": "code",
   "execution_count": 14,
   "id": "e2e83fba",
   "metadata": {},
   "outputs": [
    {
     "data": {
      "image/png": "[encoded data removed]",
      "text/plain": [
       "<Figure size 864x288 with 2 Axes>"
      ]
     },
     "metadata": {},
     "output_type": "display_data"
    }
   ],
   "source": [
    "plt.figure(figsize = (12,4))\n",
    "cmap = sns.diverging_palette(230, 20, as_cmap=True)\n",
    "sns.heatmap(full_df.loc['2000-01-31':].isnull(), cmap=cmap, vmax=1, vmin = 0, center=0,\n",
    "#              linewidths=.5, \n",
    "            cbar_kws={\"shrink\": .5})\n",
    "plt.yticks([])\n",
    "plt.show()"
   ]
  },
  {
   "cell_type": "markdown",
   "id": "54aa4528",
   "metadata": {},
   "source": [
    "> 한국의 외환보유액을 사용할 수 있는 시점으로 데이터 수집 시점을 잡고, 중국의 외환보유액은 항목에서 삭제  "
   ]
  },
  {
   "cell_type": "code",
   "execution_count": 15,
   "id": "18b4dee9",
   "metadata": {},
   "outputs": [],
   "source": [
    "full_df.drop('외환보유액_중국', axis = 1, inplace = True)"
   ]
  },
  {
   "cell_type": "code",
   "execution_count": 16,
   "id": "33f3e251",
   "metadata": {},
   "outputs": [],
   "source": [
    "full_df = full_df[full_df['외환보유액_한국'].notnull()]"
   ]
  },
  {
   "cell_type": "markdown",
   "id": "86425790",
   "metadata": {},
   "source": [
    "## 2. 데이터 전처리 \n",
    "- 변수별 단위가 상이한 것으로 보임.  \n",
    "- 메타 관리차원에서 한번 항목별 체크하고 진행 "
   ]
  },
  {
   "cell_type": "code",
   "execution_count": 17,
   "id": "604da543",
   "metadata": {},
   "outputs": [
    {
     "data": {
      "text/plain": [
       "Index(['GDP_미국', 'GDP_캐나다', 'GDP_한국', '경상수지_미국', '경상수지_캐나다', '경상수지_한국',\n",
       "       '경제성장율_미국', '경제성장율_캐나다', '경제성장율_한국', '국채1년물_미국', '국채1년물_한국', '기준금리_미국',\n",
       "       '기준금리_캐나다', '기준금리_한국', '생산자물가지수_미국', '생산자물가지수_캐나다', '생산자물가지수_한국',\n",
       "       '소비자물가지수_미국', '소비자물가지수_캐나다', '소비자물가지수_한국', '실업률_미국', '실업률_캐나다',\n",
       "       '실업률_한국', '외환보유액_캐나다', '외환보유액_한국', '환율_CADKRW', '환율_CADUSD',\n",
       "       '환율_KRWUSD', 'GDP_CONSTANT_KOR', 'GDP_CONSTANT_CAN', 'GDP_CONSTANT_USA',\n",
       "       'GDP_CURRENT_KOR', 'GDP_CURRENT_CAN', 'GDP_CURRENT_USA',\n",
       "       'GDP_GROWTH_KOR', 'GDP_GROWTH_CAN', 'GDP_GROWTH_USA', 'PPP_XR_KOR',\n",
       "       'PPP_XR_CAN', 'PPP_XR_USA'],\n",
       "      dtype='object')"
      ]
     },
     "execution_count": 17,
     "metadata": {},
     "output_type": "execute_result"
    }
   ],
   "source": [
    "full_df.columns"
   ]
  },
  {
   "cell_type": "markdown",
   "id": "3c93695c",
   "metadata": {},
   "source": [
    "### 2-1) GDP 정비  \n",
    "- 딥서치랑 월드뱅크에서 가져온 데이터 체크 \n",
    "\n",
    "\n",
    "    # 분기단위 실질GDP 변수 추가 \n",
    "    # 캐나다 실질GDP or 경제성장율 숫자 싱크가 안맞음."
   ]
  },
  {
   "cell_type": "code",
   "execution_count": 18,
   "id": "f6e36242",
   "metadata": {},
   "outputs": [
    {
     "data": {
      "text/html": [
       "<div>\n",
       "<style scoped>\n",
       "    .dataframe tbody tr th:only-of-type {\n",
       "        vertical-align: middle;\n",
       "    }\n",
       "\n",
       "    .dataframe tbody tr th {\n",
       "        vertical-align: top;\n",
       "    }\n",
       "\n",
       "    .dataframe thead th {\n",
       "        text-align: right;\n",
       "    }\n",
       "</style>\n",
       "<table border=\"1\" class=\"dataframe\">\n",
       "  <thead>\n",
       "    <tr style=\"text-align: right;\">\n",
       "      <th></th>\n",
       "      <th>GDP_미국</th>\n",
       "      <th>GDP_CONSTANT_USA</th>\n",
       "      <th>GDP_CURRENT_USA</th>\n",
       "    </tr>\n",
       "    <tr>\n",
       "      <th>date</th>\n",
       "      <th></th>\n",
       "      <th></th>\n",
       "      <th></th>\n",
       "    </tr>\n",
       "  </thead>\n",
       "  <tbody>\n",
       "    <tr>\n",
       "      <th>2022-06-30</th>\n",
       "      <td>22996100.0</td>\n",
       "      <td>2.033858e+13</td>\n",
       "      <td>2.299610e+13</td>\n",
       "    </tr>\n",
       "    <tr>\n",
       "      <th>2022-07-31</th>\n",
       "      <td>22996100.0</td>\n",
       "      <td>2.033858e+13</td>\n",
       "      <td>2.299610e+13</td>\n",
       "    </tr>\n",
       "    <tr>\n",
       "      <th>2022-08-31</th>\n",
       "      <td>22996100.0</td>\n",
       "      <td>2.033858e+13</td>\n",
       "      <td>2.299610e+13</td>\n",
       "    </tr>\n",
       "  </tbody>\n",
       "</table>\n",
       "</div>"
      ],
      "text/plain": [
       "                GDP_미국  GDP_CONSTANT_USA  GDP_CURRENT_USA\n",
       "date                                                     \n",
       "2022-06-30  22996100.0      2.033858e+13     2.299610e+13\n",
       "2022-07-31  22996100.0      2.033858e+13     2.299610e+13\n",
       "2022-08-31  22996100.0      2.033858e+13     2.299610e+13"
      ]
     },
     "execution_count": 18,
     "metadata": {},
     "output_type": "execute_result"
    }
   ],
   "source": [
    "full_df[['GDP_미국','GDP_CONSTANT_USA','GDP_CURRENT_USA']].tail(3)"
   ]
  },
  {
   "cell_type": "code",
   "execution_count": 19,
   "id": "c7f7b7c9",
   "metadata": {},
   "outputs": [],
   "source": [
    "full_df['명목GDP_미국'] = full_df['GDP_미국']*1000000\n",
    "full_df['명목GDP_한국'] = full_df['GDP_한국']*1000000\n",
    "full_df['명목GDP_캐나다'] = full_df['GDP_캐나다']*1000000"
   ]
  },
  {
   "cell_type": "markdown",
   "id": "3395e53a",
   "metadata": {},
   "source": [
    "> 명목gdp는 딥서치 데이터를 활용하며 단위는 달러 단위로 통일  \n",
    "wb에서 가져온 명목 gdp는 삭제  "
   ]
  },
  {
   "cell_type": "markdown",
   "id": "39ccb8d8",
   "metadata": {},
   "source": [
    "> wb 경제성장율은 연간 정보니깐 제거  \n",
    "> 실질 gdp는 real xr 산출에서 사용될 것. 연 단위 데이터이므로 분기단위 성장율을 통해 분기단위 실질 gdp 계산해서 활용도 가능할듯"
   ]
  },
  {
   "cell_type": "markdown",
   "id": "77ba3a55",
   "metadata": {},
   "source": [
    "#### 분기단위 실질 GDP 를 구할 수 있음(아래서 구해보자 )"
   ]
  },
  {
   "cell_type": "code",
   "execution_count": 20,
   "id": "bc71405c",
   "metadata": {},
   "outputs": [
    {
     "data": {
      "text/html": [
       "<div>\n",
       "<style scoped>\n",
       "    .dataframe tbody tr th:only-of-type {\n",
       "        vertical-align: middle;\n",
       "    }\n",
       "\n",
       "    .dataframe tbody tr th {\n",
       "        vertical-align: top;\n",
       "    }\n",
       "\n",
       "    .dataframe thead th {\n",
       "        text-align: right;\n",
       "    }\n",
       "</style>\n",
       "<table border=\"1\" class=\"dataframe\">\n",
       "  <thead>\n",
       "    <tr style=\"text-align: right;\">\n",
       "      <th></th>\n",
       "      <th>경제성장율_미국</th>\n",
       "      <th>경제성장율_캐나다</th>\n",
       "      <th>경제성장율_한국</th>\n",
       "    </tr>\n",
       "    <tr>\n",
       "      <th>date</th>\n",
       "      <th></th>\n",
       "      <th></th>\n",
       "      <th></th>\n",
       "    </tr>\n",
       "  </thead>\n",
       "  <tbody>\n",
       "    <tr>\n",
       "      <th>2005-01-31</th>\n",
       "      <td>1.0</td>\n",
       "      <td>0.7</td>\n",
       "      <td>0.8</td>\n",
       "    </tr>\n",
       "    <tr>\n",
       "      <th>2005-02-28</th>\n",
       "      <td>1.0</td>\n",
       "      <td>0.7</td>\n",
       "      <td>0.8</td>\n",
       "    </tr>\n",
       "    <tr>\n",
       "      <th>2005-03-31</th>\n",
       "      <td>1.1</td>\n",
       "      <td>0.3</td>\n",
       "      <td>0.9</td>\n",
       "    </tr>\n",
       "    <tr>\n",
       "      <th>2005-04-30</th>\n",
       "      <td>1.1</td>\n",
       "      <td>0.3</td>\n",
       "      <td>0.9</td>\n",
       "    </tr>\n",
       "    <tr>\n",
       "      <th>2005-05-31</th>\n",
       "      <td>1.1</td>\n",
       "      <td>0.3</td>\n",
       "      <td>0.9</td>\n",
       "    </tr>\n",
       "    <tr>\n",
       "      <th>...</th>\n",
       "      <td>...</td>\n",
       "      <td>...</td>\n",
       "      <td>...</td>\n",
       "    </tr>\n",
       "    <tr>\n",
       "      <th>2022-04-30</th>\n",
       "      <td>-0.4</td>\n",
       "      <td>0.8</td>\n",
       "      <td>0.6</td>\n",
       "    </tr>\n",
       "    <tr>\n",
       "      <th>2022-05-31</th>\n",
       "      <td>-0.4</td>\n",
       "      <td>0.8</td>\n",
       "      <td>0.6</td>\n",
       "    </tr>\n",
       "    <tr>\n",
       "      <th>2022-06-30</th>\n",
       "      <td>-0.2</td>\n",
       "      <td>1.1</td>\n",
       "      <td>0.7</td>\n",
       "    </tr>\n",
       "    <tr>\n",
       "      <th>2022-07-31</th>\n",
       "      <td>-0.2</td>\n",
       "      <td>1.1</td>\n",
       "      <td>0.7</td>\n",
       "    </tr>\n",
       "    <tr>\n",
       "      <th>2022-08-31</th>\n",
       "      <td>-0.2</td>\n",
       "      <td>1.1</td>\n",
       "      <td>0.7</td>\n",
       "    </tr>\n",
       "  </tbody>\n",
       "</table>\n",
       "<p>212 rows × 3 columns</p>\n",
       "</div>"
      ],
      "text/plain": [
       "            경제성장율_미국  경제성장율_캐나다  경제성장율_한국\n",
       "date                                     \n",
       "2005-01-31       1.0        0.7       0.8\n",
       "2005-02-28       1.0        0.7       0.8\n",
       "2005-03-31       1.1        0.3       0.9\n",
       "2005-04-30       1.1        0.3       0.9\n",
       "2005-05-31       1.1        0.3       0.9\n",
       "...              ...        ...       ...\n",
       "2022-04-30      -0.4        0.8       0.6\n",
       "2022-05-31      -0.4        0.8       0.6\n",
       "2022-06-30      -0.2        1.1       0.7\n",
       "2022-07-31      -0.2        1.1       0.7\n",
       "2022-08-31      -0.2        1.1       0.7\n",
       "\n",
       "[212 rows x 3 columns]"
      ]
     },
     "execution_count": 20,
     "metadata": {},
     "output_type": "execute_result"
    }
   ],
   "source": [
    "# 분기 단위 정보, 실질 gdp기준으로 만들어져 있음  \n",
    "full_df[['경제성장율_미국','경제성장율_캐나다','경제성장율_한국']]"
   ]
  },
  {
   "cell_type": "markdown",
   "id": "7423f44a",
   "metadata": {},
   "source": [
    "* 분기별 성장율을 sumproduct 하여 실제 실질성장율을 분기별로 계산 숫자의 오차는 어느 정도인지 체크 "
   ]
  },
  {
   "cell_type": "code",
   "execution_count": 21,
   "id": "6d1a9b63",
   "metadata": {},
   "outputs": [
    {
     "data": {
      "text/plain": [
       "0.9984410446041383"
      ]
     },
     "execution_count": 21,
     "metadata": {},
     "output_type": "execute_result"
    }
   ],
   "source": [
    "# 20년 말 기준 실질gdp로 성장율로 계산 시 21년 말 gdp가 나오는지?\n",
    "t1 = full_df.loc['2020-12-31','GDP_CONSTANT_USA']*(100+full_df.loc['2021-03-31','경제성장율_미국'])/100\\\n",
    "*(100+full_df.loc['2021-06-30','경제성장율_미국'])/100\\\n",
    "*(100+full_df.loc['2021-09-30','경제성장율_미국'])/100\\\n",
    "*(100+full_df.loc['2021-12-31','경제성장율_미국'])/100\n",
    "t2 = full_df.loc['2021-12-31','GDP_CONSTANT_USA']\n",
    "\n",
    "t1/t2"
   ]
  },
  {
   "cell_type": "markdown",
   "id": "3447902d",
   "metadata": {},
   "source": [
    "> 99.8% 정도.. 아마 단위 절사 문제로 보임. 그래도 이게 나을듯 "
   ]
  },
  {
   "cell_type": "code",
   "execution_count": 22,
   "id": "ac9c151d",
   "metadata": {},
   "outputs": [
    {
     "data": {
      "text/plain": [
       "0.9992462129155507"
      ]
     },
     "execution_count": 22,
     "metadata": {},
     "output_type": "execute_result"
    }
   ],
   "source": [
    "# 반대로도 한번 체크 \n",
    "t1 = full_df.loc['2021-12-31','GDP_CONSTANT_USA']*(100-full_df.loc['2021-12-31','경제성장율_미국'])/100\\\n",
    "*(100-full_df.loc['2021-09-30','경제성장율_미국'])/100\\\n",
    "*(100-full_df.loc['2021-06-30','경제성장율_미국'])/100\\\n",
    "*(100-full_df.loc['2021-03-31','경제성장율_미국'])/100\n",
    "t2 = full_df.loc['2020-12-31','GDP_CONSTANT_USA']\n",
    "t2/t1"
   ]
  },
  {
   "cell_type": "markdown",
   "id": "cac08f10",
   "metadata": {},
   "source": [
    "> 이쪽도 문제 없어보임.  분기별로 실질 gdp 재연산 진행 "
   ]
  },
  {
   "cell_type": "code",
   "execution_count": 23,
   "id": "544dbea6",
   "metadata": {},
   "outputs": [],
   "source": [
    "sub_df = full_df[['GDP_CONSTANT_USA','GDP_CONSTANT_KOR','GDP_CONSTANT_CAN','경제성장율_미국','경제성장율_한국','경제성장율_캐나다']].resample('Q').last()"
   ]
  },
  {
   "cell_type": "code",
   "execution_count": 24,
   "id": "b8f8c76c",
   "metadata": {},
   "outputs": [],
   "source": [
    "real_gdp = sub_df.iloc[0]['GDP_CONSTANT_USA']\n",
    "for idx in sub_df.index:\n",
    "    gap_rt = 1 + sub_df.loc[idx,'경제성장율_미국']/100 # 12월 발표였으니 그냥 바로 곱해도 가능 \n",
    "    real_gdp *= gap_rt\n",
    "    sub_df.loc[idx,'실질GDP_미국'] = real_gdp"
   ]
  },
  {
   "cell_type": "code",
   "execution_count": 25,
   "id": "178bc15c",
   "metadata": {},
   "outputs": [
    {
     "data": {
      "text/html": [
       "<div>\n",
       "<style scoped>\n",
       "    .dataframe tbody tr th:only-of-type {\n",
       "        vertical-align: middle;\n",
       "    }\n",
       "\n",
       "    .dataframe tbody tr th {\n",
       "        vertical-align: top;\n",
       "    }\n",
       "\n",
       "    .dataframe thead th {\n",
       "        text-align: right;\n",
       "    }\n",
       "</style>\n",
       "<table border=\"1\" class=\"dataframe\">\n",
       "  <thead>\n",
       "    <tr style=\"text-align: right;\">\n",
       "      <th></th>\n",
       "      <th>GDP_CONSTANT_USA</th>\n",
       "      <th>GDP_CONSTANT_KOR</th>\n",
       "      <th>GDP_CONSTANT_CAN</th>\n",
       "      <th>경제성장율_미국</th>\n",
       "      <th>경제성장율_한국</th>\n",
       "      <th>경제성장율_캐나다</th>\n",
       "      <th>실질GDP_미국</th>\n",
       "    </tr>\n",
       "    <tr>\n",
       "      <th>date</th>\n",
       "      <th></th>\n",
       "      <th></th>\n",
       "      <th></th>\n",
       "      <th></th>\n",
       "      <th></th>\n",
       "      <th></th>\n",
       "      <th></th>\n",
       "    </tr>\n",
       "  </thead>\n",
       "  <tbody>\n",
       "    <tr>\n",
       "      <th>2022-03-31</th>\n",
       "      <td>2.033858e+13</td>\n",
       "      <td>1.910745e+15</td>\n",
       "      <td>2.149315e+12</td>\n",
       "      <td>-0.4</td>\n",
       "      <td>0.6</td>\n",
       "      <td>0.8</td>\n",
       "      <td>2.051132e+13</td>\n",
       "    </tr>\n",
       "    <tr>\n",
       "      <th>2022-06-30</th>\n",
       "      <td>2.033858e+13</td>\n",
       "      <td>1.910745e+15</td>\n",
       "      <td>2.149315e+12</td>\n",
       "      <td>-0.2</td>\n",
       "      <td>0.7</td>\n",
       "      <td>1.1</td>\n",
       "      <td>2.047030e+13</td>\n",
       "    </tr>\n",
       "    <tr>\n",
       "      <th>2022-09-30</th>\n",
       "      <td>2.033858e+13</td>\n",
       "      <td>1.910745e+15</td>\n",
       "      <td>2.149315e+12</td>\n",
       "      <td>-0.2</td>\n",
       "      <td>0.7</td>\n",
       "      <td>1.1</td>\n",
       "      <td>2.042935e+13</td>\n",
       "    </tr>\n",
       "  </tbody>\n",
       "</table>\n",
       "</div>"
      ],
      "text/plain": [
       "            GDP_CONSTANT_USA  GDP_CONSTANT_KOR  GDP_CONSTANT_CAN  경제성장율_미국  \\\n",
       "date                                                                         \n",
       "2022-03-31      2.033858e+13      1.910745e+15      2.149315e+12      -0.4   \n",
       "2022-06-30      2.033858e+13      1.910745e+15      2.149315e+12      -0.2   \n",
       "2022-09-30      2.033858e+13      1.910745e+15      2.149315e+12      -0.2   \n",
       "\n",
       "            경제성장율_한국  경제성장율_캐나다      실질GDP_미국  \n",
       "date                                           \n",
       "2022-03-31       0.6        0.8  2.051132e+13  \n",
       "2022-06-30       0.7        1.1  2.047030e+13  \n",
       "2022-09-30       0.7        1.1  2.042935e+13  "
      ]
     },
     "execution_count": 25,
     "metadata": {},
     "output_type": "execute_result"
    }
   ],
   "source": [
    "sub_df.tail(3)"
   ]
  },
  {
   "cell_type": "code",
   "execution_count": 26,
   "id": "73b75e51",
   "metadata": {},
   "outputs": [
    {
     "data": {
      "text/plain": [
       "1.0"
      ]
     },
     "execution_count": 26,
     "metadata": {},
     "output_type": "execute_result"
    }
   ],
   "source": [
    "sub_df.loc['2021-12-31', 'GDP_CONSTANT_USA'] / sub_df.loc['2021-12-31', 'GDP_CONSTANT_USA']"
   ]
  },
  {
   "cell_type": "markdown",
   "id": "9e86a77b",
   "metadata": {},
   "source": [
    "> 연말숫자 일치 확인 완료 차트로 실효성 확인 "
   ]
  },
  {
   "cell_type": "markdown",
   "id": "d24bb2b9",
   "metadata": {},
   "source": [
    "#### 미국 분기 실질GDP추정"
   ]
  },
  {
   "cell_type": "code",
   "execution_count": 27,
   "id": "c5e6c0df",
   "metadata": {
    "scrolled": true
   },
   "outputs": [
    {
     "data": {
      "image/png": "[encoded data removed]",
      "text/plain": [
       "<Figure size 432x288 with 1 Axes>"
      ]
     },
     "metadata": {},
     "output_type": "display_data"
    }
   ],
   "source": [
    "    plt.plot(sub_df[['GDP_CONSTANT_USA','실질GDP_미국']])\n",
    "    plt.show()"
   ]
  },
  {
   "cell_type": "markdown",
   "id": "0e008e5e",
   "metadata": {},
   "source": [
    "> 등락이 큰 부분들이 추가로 반영되는 효과를 볼 수 있음.  \n",
    "나머지 국가도 동일하게 작업  "
   ]
  },
  {
   "cell_type": "markdown",
   "id": "87f0f96f",
   "metadata": {},
   "source": [
    "#### 한국 실질 GDP추정"
   ]
  },
  {
   "cell_type": "code",
   "execution_count": 28,
   "id": "2550b577",
   "metadata": {},
   "outputs": [
    {
     "data": {
      "text/plain": [
       "1836881100000000.0"
      ]
     },
     "execution_count": 28,
     "metadata": {},
     "output_type": "execute_result"
    }
   ],
   "source": [
    "# 한국 실질 gdp 단위가 좀 이상한 듯함..  맞추고 가자  \n",
    "full_df.loc['2020-12-31','GDP_CONSTANT_KOR'] "
   ]
  },
  {
   "cell_type": "markdown",
   "id": "c39a8666",
   "metadata": {},
   "source": [
    "> 1835 조 달러 라고 나오는데..  구글에서 찾아보면 1.6조 달러 수준. 1000단위로 한번 나눠줘야 할듯 "
   ]
  },
  {
   "cell_type": "code",
   "execution_count": 29,
   "id": "7f5b531c",
   "metadata": {},
   "outputs": [
    {
     "data": {
      "image/png": "[encoded data removed]",
      "text/plain": [
       "<Figure size 432x288 with 1 Axes>"
      ]
     },
     "metadata": {},
     "output_type": "display_data"
    }
   ],
   "source": [
    "# 한국\n",
    "real_gdp = sub_df.iloc[0]['GDP_CONSTANT_KOR']\n",
    "for idx in sub_df.index:\n",
    "    gap_rt = 1 + sub_df.loc[idx,'경제성장율_한국']/100 # 12월 발표였으니 그냥 바로 곱해도 가능 \n",
    "    real_gdp *= gap_rt\n",
    "    sub_df.loc[idx,'실질GDP_한국'] = real_gdp\n",
    "plt.plot(sub_df[['GDP_CONSTANT_KOR','실질GDP_한국']])\n",
    "plt.show()"
   ]
  },
  {
   "cell_type": "code",
   "execution_count": 30,
   "id": "ccebead7",
   "metadata": {},
   "outputs": [],
   "source": [
    "sub_df['실질GDP_한국'] /= 1000"
   ]
  },
  {
   "cell_type": "markdown",
   "id": "813ed3c0",
   "metadata": {},
   "source": [
    "#### 캐나다!?"
   ]
  },
  {
   "cell_type": "code",
   "execution_count": 31,
   "id": "91f45c79",
   "metadata": {},
   "outputs": [
    {
     "data": {
      "image/png": "[encoded data removed]",
      "text/plain": [
       "<Figure size 432x288 with 1 Axes>"
      ]
     },
     "metadata": {},
     "output_type": "display_data"
    }
   ],
   "source": [
    "# 캐나다    \n",
    "real_gdp = sub_df.iloc[0]['GDP_CONSTANT_CAN']\n",
    "for idx in sub_df.index:\n",
    "    gap_rt = 1 + sub_df.loc[idx,'경제성장율_캐나다']/100 # 12월 발표였으니 그냥 바로 곱해도 가능 \n",
    "    real_gdp *= gap_rt\n",
    "    sub_df.loc[idx,'실질GDP_캐나다'] = real_gdp    \n",
    "plt.plot(sub_df[['GDP_CONSTANT_CAN','실질GDP_캐나다']])\n",
    "plt.show()"
   ]
  },
  {
   "cell_type": "markdown",
   "id": "ddc750d9",
   "metadata": {},
   "source": [
    "> 갭이 좀 크게 발생함. 사유는?"
   ]
  },
  {
   "cell_type": "code",
   "execution_count": 32,
   "id": "d2dd50b3",
   "metadata": {
    "scrolled": true
   },
   "outputs": [
    {
     "data": {
      "text/html": [
       "<div>\n",
       "<style scoped>\n",
       "    .dataframe tbody tr th:only-of-type {\n",
       "        vertical-align: middle;\n",
       "    }\n",
       "\n",
       "    .dataframe tbody tr th {\n",
       "        vertical-align: top;\n",
       "    }\n",
       "\n",
       "    .dataframe thead th {\n",
       "        text-align: right;\n",
       "    }\n",
       "</style>\n",
       "<table border=\"1\" class=\"dataframe\">\n",
       "  <thead>\n",
       "    <tr style=\"text-align: right;\">\n",
       "      <th></th>\n",
       "      <th>GDP_CONSTANT_CAN</th>\n",
       "      <th>경제성장율_캐나다</th>\n",
       "      <th>실질GDP_캐나다</th>\n",
       "      <th>체크</th>\n",
       "    </tr>\n",
       "    <tr>\n",
       "      <th>date</th>\n",
       "      <th></th>\n",
       "      <th></th>\n",
       "      <th></th>\n",
       "      <th></th>\n",
       "    </tr>\n",
       "  </thead>\n",
       "  <tbody>\n",
       "    <tr>\n",
       "      <th>2005-03-31</th>\n",
       "      <td>1.514806e+12</td>\n",
       "      <td>0.3</td>\n",
       "      <td>1.519350e+12</td>\n",
       "      <td>0.997009</td>\n",
       "    </tr>\n",
       "    <tr>\n",
       "      <th>2005-06-30</th>\n",
       "      <td>1.514806e+12</td>\n",
       "      <td>0.7</td>\n",
       "      <td>1.529986e+12</td>\n",
       "      <td>0.990078</td>\n",
       "    </tr>\n",
       "    <tr>\n",
       "      <th>2005-09-30</th>\n",
       "      <td>1.514806e+12</td>\n",
       "      <td>1.2</td>\n",
       "      <td>1.548346e+12</td>\n",
       "      <td>0.978338</td>\n",
       "    </tr>\n",
       "    <tr>\n",
       "      <th>2005-12-31</th>\n",
       "      <td>1.590484e+12</td>\n",
       "      <td>1.0</td>\n",
       "      <td>1.563829e+12</td>\n",
       "      <td>1.017044</td>\n",
       "    </tr>\n",
       "    <tr>\n",
       "      <th>2006-03-31</th>\n",
       "      <td>1.590484e+12</td>\n",
       "      <td>0.8</td>\n",
       "      <td>1.576340e+12</td>\n",
       "      <td>1.008973</td>\n",
       "    </tr>\n",
       "    <tr>\n",
       "      <th>2006-06-30</th>\n",
       "      <td>1.590484e+12</td>\n",
       "      <td>0.1</td>\n",
       "      <td>1.577916e+12</td>\n",
       "      <td>1.007965</td>\n",
       "    </tr>\n",
       "    <tr>\n",
       "      <th>2006-09-30</th>\n",
       "      <td>1.590484e+12</td>\n",
       "      <td>0.3</td>\n",
       "      <td>1.582650e+12</td>\n",
       "      <td>1.004950</td>\n",
       "    </tr>\n",
       "    <tr>\n",
       "      <th>2006-12-31</th>\n",
       "      <td>1.656740e+12</td>\n",
       "      <td>0.4</td>\n",
       "      <td>1.588980e+12</td>\n",
       "      <td>1.042644</td>\n",
       "    </tr>\n",
       "    <tr>\n",
       "      <th>2007-03-31</th>\n",
       "      <td>1.656740e+12</td>\n",
       "      <td>0.6</td>\n",
       "      <td>1.598514e+12</td>\n",
       "      <td>1.036425</td>\n",
       "    </tr>\n",
       "    <tr>\n",
       "      <th>2007-06-30</th>\n",
       "      <td>1.656740e+12</td>\n",
       "      <td>1.0</td>\n",
       "      <td>1.614500e+12</td>\n",
       "      <td>1.026163</td>\n",
       "    </tr>\n",
       "    <tr>\n",
       "      <th>2007-09-30</th>\n",
       "      <td>1.656740e+12</td>\n",
       "      <td>0.4</td>\n",
       "      <td>1.620957e+12</td>\n",
       "      <td>1.022075</td>\n",
       "    </tr>\n",
       "    <tr>\n",
       "      <th>2007-12-31</th>\n",
       "      <td>1.770535e+12</td>\n",
       "      <td>0.1</td>\n",
       "      <td>1.622578e+12</td>\n",
       "      <td>1.091186</td>\n",
       "    </tr>\n",
       "    <tr>\n",
       "      <th>2008-03-31</th>\n",
       "      <td>1.770535e+12</td>\n",
       "      <td>0.1</td>\n",
       "      <td>1.624201e+12</td>\n",
       "      <td>1.090096</td>\n",
       "    </tr>\n",
       "    <tr>\n",
       "      <th>2008-06-30</th>\n",
       "      <td>1.770535e+12</td>\n",
       "      <td>0.4</td>\n",
       "      <td>1.630698e+12</td>\n",
       "      <td>1.085753</td>\n",
       "    </tr>\n",
       "    <tr>\n",
       "      <th>2008-09-30</th>\n",
       "      <td>1.770535e+12</td>\n",
       "      <td>0.8</td>\n",
       "      <td>1.643743e+12</td>\n",
       "      <td>1.077136</td>\n",
       "    </tr>\n",
       "    <tr>\n",
       "      <th>2008-12-31</th>\n",
       "      <td>1.788376e+12</td>\n",
       "      <td>-1.2</td>\n",
       "      <td>1.624019e+12</td>\n",
       "      <td>1.101204</td>\n",
       "    </tr>\n",
       "    <tr>\n",
       "      <th>2009-03-31</th>\n",
       "      <td>1.788376e+12</td>\n",
       "      <td>-2.3</td>\n",
       "      <td>1.586666e+12</td>\n",
       "      <td>1.127128</td>\n",
       "    </tr>\n",
       "    <tr>\n",
       "      <th>2009-06-30</th>\n",
       "      <td>1.788376e+12</td>\n",
       "      <td>-1.1</td>\n",
       "      <td>1.569213e+12</td>\n",
       "      <td>1.139664</td>\n",
       "    </tr>\n",
       "    <tr>\n",
       "      <th>2009-09-30</th>\n",
       "      <td>1.788376e+12</td>\n",
       "      <td>0.4</td>\n",
       "      <td>1.575490e+12</td>\n",
       "      <td>1.135124</td>\n",
       "    </tr>\n",
       "    <tr>\n",
       "      <th>2009-12-31</th>\n",
       "      <td>1.736005e+12</td>\n",
       "      <td>1.2</td>\n",
       "      <td>1.594395e+12</td>\n",
       "      <td>1.088817</td>\n",
       "    </tr>\n",
       "  </tbody>\n",
       "</table>\n",
       "</div>"
      ],
      "text/plain": [
       "            GDP_CONSTANT_CAN  경제성장율_캐나다     실질GDP_캐나다        체크\n",
       "date                                                           \n",
       "2005-03-31      1.514806e+12        0.3  1.519350e+12  0.997009\n",
       "2005-06-30      1.514806e+12        0.7  1.529986e+12  0.990078\n",
       "2005-09-30      1.514806e+12        1.2  1.548346e+12  0.978338\n",
       "2005-12-31      1.590484e+12        1.0  1.563829e+12  1.017044\n",
       "2006-03-31      1.590484e+12        0.8  1.576340e+12  1.008973\n",
       "2006-06-30      1.590484e+12        0.1  1.577916e+12  1.007965\n",
       "2006-09-30      1.590484e+12        0.3  1.582650e+12  1.004950\n",
       "2006-12-31      1.656740e+12        0.4  1.588980e+12  1.042644\n",
       "2007-03-31      1.656740e+12        0.6  1.598514e+12  1.036425\n",
       "2007-06-30      1.656740e+12        1.0  1.614500e+12  1.026163\n",
       "2007-09-30      1.656740e+12        0.4  1.620957e+12  1.022075\n",
       "2007-12-31      1.770535e+12        0.1  1.622578e+12  1.091186\n",
       "2008-03-31      1.770535e+12        0.1  1.624201e+12  1.090096\n",
       "2008-06-30      1.770535e+12        0.4  1.630698e+12  1.085753\n",
       "2008-09-30      1.770535e+12        0.8  1.643743e+12  1.077136\n",
       "2008-12-31      1.788376e+12       -1.2  1.624019e+12  1.101204\n",
       "2009-03-31      1.788376e+12       -2.3  1.586666e+12  1.127128\n",
       "2009-06-30      1.788376e+12       -1.1  1.569213e+12  1.139664\n",
       "2009-09-30      1.788376e+12        0.4  1.575490e+12  1.135124\n",
       "2009-12-31      1.736005e+12        1.2  1.594395e+12  1.088817"
      ]
     },
     "execution_count": 32,
     "metadata": {},
     "output_type": "execute_result"
    }
   ],
   "source": [
    "sub_df['체크'] = sub_df['GDP_CONSTANT_CAN']/sub_df['실질GDP_캐나다']\n",
    "sub_df[['GDP_CONSTANT_CAN','경제성장율_캐나다','실질GDP_캐나다','체크']].head(20)"
   ]
  },
  {
   "cell_type": "markdown",
   "id": "7af67b03",
   "metadata": {},
   "source": [
    "로그 계산을 해보아도 "
   ]
  },
  {
   "cell_type": "code",
   "execution_count": 33,
   "id": "e65fe3af",
   "metadata": {},
   "outputs": [
    {
     "data": {
      "text/html": [
       "<div>\n",
       "<style scoped>\n",
       "    .dataframe tbody tr th:only-of-type {\n",
       "        vertical-align: middle;\n",
       "    }\n",
       "\n",
       "    .dataframe tbody tr th {\n",
       "        vertical-align: top;\n",
       "    }\n",
       "\n",
       "    .dataframe thead th {\n",
       "        text-align: right;\n",
       "    }\n",
       "</style>\n",
       "<table border=\"1\" class=\"dataframe\">\n",
       "  <thead>\n",
       "    <tr style=\"text-align: right;\">\n",
       "      <th></th>\n",
       "      <th>GDP_CONSTANT_CAN</th>\n",
       "      <th>rprod</th>\n",
       "      <th>경제성장율_캐나다</th>\n",
       "      <th>실질GDP_캐나다</th>\n",
       "    </tr>\n",
       "    <tr>\n",
       "      <th>date</th>\n",
       "      <th></th>\n",
       "      <th></th>\n",
       "      <th></th>\n",
       "      <th></th>\n",
       "    </tr>\n",
       "  </thead>\n",
       "  <tbody>\n",
       "    <tr>\n",
       "      <th>2005-03-31</th>\n",
       "      <td>1.514806e+12</td>\n",
       "      <td>NaN</td>\n",
       "      <td>0.3</td>\n",
       "      <td>1.519350e+12</td>\n",
       "    </tr>\n",
       "    <tr>\n",
       "      <th>2005-06-30</th>\n",
       "      <td>1.514806e+12</td>\n",
       "      <td>NaN</td>\n",
       "      <td>0.7</td>\n",
       "      <td>1.529986e+12</td>\n",
       "    </tr>\n",
       "    <tr>\n",
       "      <th>2005-09-30</th>\n",
       "      <td>1.514806e+12</td>\n",
       "      <td>NaN</td>\n",
       "      <td>1.2</td>\n",
       "      <td>1.548346e+12</td>\n",
       "    </tr>\n",
       "    <tr>\n",
       "      <th>2005-12-31</th>\n",
       "      <td>1.590484e+12</td>\n",
       "      <td>3.236266</td>\n",
       "      <td>1.0</td>\n",
       "      <td>1.563829e+12</td>\n",
       "    </tr>\n",
       "    <tr>\n",
       "      <th>2006-03-31</th>\n",
       "      <td>1.590484e+12</td>\n",
       "      <td>3.750904</td>\n",
       "      <td>0.8</td>\n",
       "      <td>1.576340e+12</td>\n",
       "    </tr>\n",
       "    <tr>\n",
       "      <th>...</th>\n",
       "      <td>...</td>\n",
       "      <td>...</td>\n",
       "      <td>...</td>\n",
       "      <td>...</td>\n",
       "    </tr>\n",
       "    <tr>\n",
       "      <th>2021-09-30</th>\n",
       "      <td>2.055524e+12</td>\n",
       "      <td>3.830075</td>\n",
       "      <td>1.3</td>\n",
       "      <td>1.961021e+12</td>\n",
       "    </tr>\n",
       "    <tr>\n",
       "      <th>2021-12-31</th>\n",
       "      <td>2.149315e+12</td>\n",
       "      <td>3.220505</td>\n",
       "      <td>1.6</td>\n",
       "      <td>1.992397e+12</td>\n",
       "    </tr>\n",
       "    <tr>\n",
       "      <th>2022-03-31</th>\n",
       "      <td>2.149315e+12</td>\n",
       "      <td>2.914213</td>\n",
       "      <td>0.8</td>\n",
       "      <td>2.008336e+12</td>\n",
       "    </tr>\n",
       "    <tr>\n",
       "      <th>2022-06-30</th>\n",
       "      <td>2.149315e+12</td>\n",
       "      <td>4.885352</td>\n",
       "      <td>1.1</td>\n",
       "      <td>2.030428e+12</td>\n",
       "    </tr>\n",
       "    <tr>\n",
       "      <th>2022-09-30</th>\n",
       "      <td>2.149315e+12</td>\n",
       "      <td>4.678274</td>\n",
       "      <td>1.1</td>\n",
       "      <td>2.052762e+12</td>\n",
       "    </tr>\n",
       "  </tbody>\n",
       "</table>\n",
       "<p>71 rows × 4 columns</p>\n",
       "</div>"
      ],
      "text/plain": [
       "            GDP_CONSTANT_CAN     rprod  경제성장율_캐나다     실질GDP_캐나다\n",
       "date                                                           \n",
       "2005-03-31      1.514806e+12       NaN        0.3  1.519350e+12\n",
       "2005-06-30      1.514806e+12       NaN        0.7  1.529986e+12\n",
       "2005-09-30      1.514806e+12       NaN        1.2  1.548346e+12\n",
       "2005-12-31      1.590484e+12  3.236266        1.0  1.563829e+12\n",
       "2006-03-31      1.590484e+12  3.750904        0.8  1.576340e+12\n",
       "...                      ...       ...        ...           ...\n",
       "2021-09-30      2.055524e+12  3.830075        1.3  1.961021e+12\n",
       "2021-12-31      2.149315e+12  3.220505        1.6  1.992397e+12\n",
       "2022-03-31      2.149315e+12  2.914213        0.8  2.008336e+12\n",
       "2022-06-30      2.149315e+12  4.885352        1.1  2.030428e+12\n",
       "2022-09-30      2.149315e+12  4.678274        1.1  2.052762e+12\n",
       "\n",
       "[71 rows x 4 columns]"
      ]
     },
     "execution_count": 33,
     "metadata": {},
     "output_type": "execute_result"
    }
   ],
   "source": [
    "sub_df['log_growth'] = np.log(1 + sub_df['경제성장율_캐나다']/100) # percent convert\n",
    "sub_df['rsum_log_growth'] = sub_df['log_growth'].rolling(4).sum()\n",
    "sub_df['rprod'] = (np.exp(sub_df['rsum_log_growth']) - 1)*100\n",
    "sub_df[['GDP_CONSTANT_CAN','rprod','경제성장율_캐나다','실질GDP_캐나다']]"
   ]
  },
  {
   "cell_type": "markdown",
   "id": "85effb33",
   "metadata": {},
   "source": [
    "> 캐나다는 숫자가 안맞음..  \n",
    "실제 계산해보아도 경제성장율 sumproduct 와 실질gdp값이 일치하지 않음.  \n",
    "우선 계산된 값으로 사용하고 사유는 파악 필요 "
   ]
  },
  {
   "cell_type": "code",
   "execution_count": 34,
   "id": "09ea588a",
   "metadata": {},
   "outputs": [],
   "source": [
    "sub_df = sub_df[['실질GDP_미국','실질GDP_캐나다','실질GDP_한국']]"
   ]
  },
  {
   "cell_type": "code",
   "execution_count": 35,
   "id": "a15a86ee",
   "metadata": {},
   "outputs": [],
   "source": [
    "full_df = pd.concat([full_df, sub_df], axis = 1)"
   ]
  },
  {
   "cell_type": "code",
   "execution_count": 36,
   "id": "96510376",
   "metadata": {},
   "outputs": [],
   "source": [
    "# 분기정보 채웠으니 다시 ffill\n",
    "full_df = full_df.fillna(method = 'ffill')"
   ]
  },
  {
   "cell_type": "code",
   "execution_count": 37,
   "id": "280d235c",
   "metadata": {},
   "outputs": [
    {
     "data": {
      "text/plain": [
       "Index(['GDP_미국', 'GDP_캐나다', 'GDP_한국', '경상수지_미국', '경상수지_캐나다', '경상수지_한국',\n",
       "       '경제성장율_미국', '경제성장율_캐나다', '경제성장율_한국', '국채1년물_미국', '국채1년물_한국', '기준금리_미국',\n",
       "       '기준금리_캐나다', '기준금리_한국', '생산자물가지수_미국', '생산자물가지수_캐나다', '생산자물가지수_한국',\n",
       "       '소비자물가지수_미국', '소비자물가지수_캐나다', '소비자물가지수_한국', '실업률_미국', '실업률_캐나다',\n",
       "       '실업률_한국', '외환보유액_캐나다', '외환보유액_한국', '환율_CADKRW', '환율_CADUSD',\n",
       "       '환율_KRWUSD', 'GDP_CONSTANT_KOR', 'GDP_CONSTANT_CAN', 'GDP_CONSTANT_USA',\n",
       "       'GDP_CURRENT_KOR', 'GDP_CURRENT_CAN', 'GDP_CURRENT_USA',\n",
       "       'GDP_GROWTH_KOR', 'GDP_GROWTH_CAN', 'GDP_GROWTH_USA', 'PPP_XR_KOR',\n",
       "       'PPP_XR_CAN', 'PPP_XR_USA', '명목GDP_미국', '명목GDP_한국', '명목GDP_캐나다',\n",
       "       '실질GDP_미국', '실질GDP_캐나다', '실질GDP_한국'],\n",
       "      dtype='object')"
      ]
     },
     "execution_count": 37,
     "metadata": {},
     "output_type": "execute_result"
    }
   ],
   "source": [
    "full_df.columns"
   ]
  },
  {
   "cell_type": "markdown",
   "id": "b1ccd599",
   "metadata": {},
   "source": [
    "### 2-2) 경상수지 관련  \n",
    "- 수업중에는 경상수지 / 명목GDP 를 지표로 활용하였음.  \n",
    "- 경상수지가 인플레이션 반영된 숫자이므로 동일하게 연산 \n",
    "- 각 정보는 백만달러 단위  \n",
    "\n"
   ]
  },
  {
   "cell_type": "markdown",
   "id": "7035f84f",
   "metadata": {},
   "source": [
    "# 경상수지/실질GDP(분기) 변수 추가 \n",
    "# 실질gdp단위환산 "
   ]
  },
  {
   "cell_type": "code",
   "execution_count": 38,
   "id": "71698cd6",
   "metadata": {},
   "outputs": [
    {
     "data": {
      "text/plain": [
       "date\n",
       "2005-01-31    1398.0\n",
       "2005-02-28     752.4\n",
       "2005-03-31    1315.6\n",
       "2005-04-30   -1734.7\n",
       "2005-05-31     546.1\n",
       "               ...  \n",
       "2022-05-31    3859.9\n",
       "2022-06-30    5609.8\n",
       "2022-07-31    5609.8\n",
       "2022-08-31    5609.8\n",
       "2022-09-30    5609.8\n",
       "Freq: M, Name: 경상수지_한국, Length: 213, dtype: float64"
      ]
     },
     "execution_count": 38,
     "metadata": {},
     "output_type": "execute_result"
    }
   ],
   "source": [
    "full_df['경상수지_한국']"
   ]
  },
  {
   "cell_type": "markdown",
   "id": "db9d59b4",
   "metadata": {},
   "source": [
    "> https://www.index.go.kr/potal/main/EachDtlPageDetail.do?idx_cd=2735 참고  \n",
    "5월 한국 경상수지는 3,860 백 만불, 월 단위임"
   ]
  },
  {
   "cell_type": "code",
   "execution_count": 39,
   "id": "30f4e4bb",
   "metadata": {},
   "outputs": [],
   "source": [
    "# 단위 변환해주고 \n",
    "for c in ['경상수지_한국','경상수지_캐나다','경상수지_미국']:\n",
    "    full_df['조정'+c] = full_df[c] * 1000000"
   ]
  },
  {
   "cell_type": "code",
   "execution_count": 40,
   "id": "9370853d",
   "metadata": {},
   "outputs": [
    {
     "data": {
      "image/png": "[encoded data removed]",
      "text/plain": [
       "<Figure size 432x288 with 1 Axes>"
      ]
     },
     "metadata": {},
     "output_type": "display_data"
    }
   ],
   "source": [
    "plt.plot(full_df[['조정경상수지_한국','조정경상수지_캐나다','조정경상수지_미국']], label = ['조정경상수지_한국','조정경상수지_캐나다','조정경상수지_미국'])\n",
    "plt.legend()\n",
    "plt.show()"
   ]
  },
  {
   "cell_type": "code",
   "execution_count": 41,
   "id": "582fdd99",
   "metadata": {},
   "outputs": [],
   "source": [
    "# 경상수지를 index화 시키고 \n",
    "full_df['명목GDP대비경상수지_미국'] = full_df['조정경상수지_미국']/full_df['명목GDP_미국']\n",
    "full_df['명목GDP대비경상수지_캐나다'] = full_df['조정경상수지_캐나다']/full_df['명목GDP_캐나다']\n",
    "full_df['명목GDP대비경상수지_한국'] = full_df['조정경상수지_한국']/full_df['명목GDP_한국']"
   ]
  },
  {
   "cell_type": "code",
   "execution_count": 42,
   "id": "ebbe5cdd",
   "metadata": {},
   "outputs": [],
   "source": [
    "# full_df.drop(['명목GDP_미국','명목GDP_캐나다','명목GDP_한국'], axis = 1, inplace = True)\n",
    "# full_df.drop(['GDP_CONSTANT_KOR','GDP_CONSTANT_USA','GDP_CONSTANT_CAN'], axis = 1, inplace = True)\n",
    "# full_df.drop(['GDP_GROWTH_CAN','GDP_GROWTH_KOR','GDP_GROWTH_USA'], axis = 1, inplace = True)\n",
    "# full_df.drop(['GDP_미국','GDP_한국','GDP_캐나다','GDP_CURRENT_USA','GDP_CURRENT_CAN','GDP_CURRENT_KOR'], axis = 1,inplace = True)\n",
    "# full_df.drop(['경상수지_미국','경상수지_캐나다','경상수지_한국'], axis = 1, inplace = True)"
   ]
  },
  {
   "cell_type": "markdown",
   "id": "e61defbb",
   "metadata": {},
   "source": [
    "* 명목gdp = 실질gdp + 인플레이션 \n",
    "* 인플레이션 = 양국 금리차이 or 양국 cpi 차이  "
   ]
  },
  {
   "cell_type": "markdown",
   "id": "0a814e5a",
   "metadata": {},
   "source": [
    "> 명목GDP는 연단위이므로 실질GDP를 활용해서 경상수지 인덱스를 만든다면 ?  \n",
    "실질GDP + 인플레이션으로 나눠보고 싶지만 우선 진행"
   ]
  },
  {
   "cell_type": "code",
   "execution_count": 43,
   "id": "78cd1d9f",
   "metadata": {},
   "outputs": [],
   "source": [
    "# 경상수지를 index화 시키고 \n",
    "full_df['실질GDP대비경상수지_미국'] = full_df['조정경상수지_미국']/full_df['실질GDP_미국']\n",
    "full_df['실질GDP대비경상수지_캐나다'] = full_df['조정경상수지_캐나다']/full_df['실질GDP_캐나다']\n",
    "full_df['실질GDP대비경상수지_한국'] = full_df['조정경상수지_한국']/full_df['실질GDP_한국']"
   ]
  },
  {
   "cell_type": "code",
   "execution_count": 44,
   "id": "e9029dd1",
   "metadata": {},
   "outputs": [
    {
     "data": {
      "text/html": [
       "<div>\n",
       "<style scoped>\n",
       "    .dataframe tbody tr th:only-of-type {\n",
       "        vertical-align: middle;\n",
       "    }\n",
       "\n",
       "    .dataframe tbody tr th {\n",
       "        vertical-align: top;\n",
       "    }\n",
       "\n",
       "    .dataframe thead th {\n",
       "        text-align: right;\n",
       "    }\n",
       "</style>\n",
       "<table border=\"1\" class=\"dataframe\">\n",
       "  <thead>\n",
       "    <tr style=\"text-align: right;\">\n",
       "      <th></th>\n",
       "      <th>실질GDP대비경상수지_미국</th>\n",
       "      <th>실질GDP대비경상수지_캐나다</th>\n",
       "      <th>실질GDP대비경상수지_한국</th>\n",
       "    </tr>\n",
       "    <tr>\n",
       "      <th>date</th>\n",
       "      <th></th>\n",
       "      <th></th>\n",
       "      <th></th>\n",
       "    </tr>\n",
       "  </thead>\n",
       "  <tbody>\n",
       "    <tr>\n",
       "      <th>2005-01-31</th>\n",
       "      <td>NaN</td>\n",
       "      <td>NaN</td>\n",
       "      <td>NaN</td>\n",
       "    </tr>\n",
       "    <tr>\n",
       "      <th>2005-02-28</th>\n",
       "      <td>NaN</td>\n",
       "      <td>NaN</td>\n",
       "      <td>NaN</td>\n",
       "    </tr>\n",
       "    <tr>\n",
       "      <th>2005-03-31</th>\n",
       "      <td>-0.010182</td>\n",
       "      <td>0.000305</td>\n",
       "      <td>0.001177</td>\n",
       "    </tr>\n",
       "    <tr>\n",
       "      <th>2005-04-30</th>\n",
       "      <td>-0.010182</td>\n",
       "      <td>0.000305</td>\n",
       "      <td>-0.001552</td>\n",
       "    </tr>\n",
       "    <tr>\n",
       "      <th>2005-05-31</th>\n",
       "      <td>-0.010182</td>\n",
       "      <td>0.000305</td>\n",
       "      <td>0.000489</td>\n",
       "    </tr>\n",
       "    <tr>\n",
       "      <th>...</th>\n",
       "      <td>...</td>\n",
       "      <td>...</td>\n",
       "      <td>...</td>\n",
       "    </tr>\n",
       "    <tr>\n",
       "      <th>2022-05-31</th>\n",
       "      <td>-0.012455</td>\n",
       "      <td>0.001380</td>\n",
       "      <td>0.002010</td>\n",
       "    </tr>\n",
       "    <tr>\n",
       "      <th>2022-06-30</th>\n",
       "      <td>-0.012480</td>\n",
       "      <td>0.001365</td>\n",
       "      <td>0.002900</td>\n",
       "    </tr>\n",
       "    <tr>\n",
       "      <th>2022-07-31</th>\n",
       "      <td>-0.012480</td>\n",
       "      <td>0.001365</td>\n",
       "      <td>0.002900</td>\n",
       "    </tr>\n",
       "    <tr>\n",
       "      <th>2022-08-31</th>\n",
       "      <td>-0.012480</td>\n",
       "      <td>0.001365</td>\n",
       "      <td>0.002900</td>\n",
       "    </tr>\n",
       "    <tr>\n",
       "      <th>2022-09-30</th>\n",
       "      <td>-0.012505</td>\n",
       "      <td>0.001350</td>\n",
       "      <td>0.002880</td>\n",
       "    </tr>\n",
       "  </tbody>\n",
       "</table>\n",
       "<p>213 rows × 3 columns</p>\n",
       "</div>"
      ],
      "text/plain": [
       "            실질GDP대비경상수지_미국  실질GDP대비경상수지_캐나다  실질GDP대비경상수지_한국\n",
       "date                                                       \n",
       "2005-01-31             NaN              NaN             NaN\n",
       "2005-02-28             NaN              NaN             NaN\n",
       "2005-03-31       -0.010182         0.000305        0.001177\n",
       "2005-04-30       -0.010182         0.000305       -0.001552\n",
       "2005-05-31       -0.010182         0.000305        0.000489\n",
       "...                    ...              ...             ...\n",
       "2022-05-31       -0.012455         0.001380        0.002010\n",
       "2022-06-30       -0.012480         0.001365        0.002900\n",
       "2022-07-31       -0.012480         0.001365        0.002900\n",
       "2022-08-31       -0.012480         0.001365        0.002900\n",
       "2022-09-30       -0.012505         0.001350        0.002880\n",
       "\n",
       "[213 rows x 3 columns]"
      ]
     },
     "execution_count": 44,
     "metadata": {},
     "output_type": "execute_result"
    }
   ],
   "source": [
    "full_df[['실질GDP대비경상수지_미국','실질GDP대비경상수지_캐나다','실질GDP대비경상수지_한국']]"
   ]
  },
  {
   "cell_type": "code",
   "execution_count": 45,
   "id": "20ea86f5",
   "metadata": {},
   "outputs": [
    {
     "data": {
      "image/png": "[encoded data removed]",
      "text/plain": [
       "<Figure size 432x288 with 1 Axes>"
      ]
     },
     "metadata": {},
     "output_type": "display_data"
    }
   ],
   "source": [
    "features = ['실질GDP대비경상수지_미국','명목GDP대비경상수지_미국']\n",
    "plt.plot(full_df[features], label = features)\n",
    "plt.legend()\n",
    "plt.show()"
   ]
  },
  {
   "cell_type": "code",
   "execution_count": 46,
   "id": "b9d4af9a",
   "metadata": {},
   "outputs": [
    {
     "data": {
      "image/png": "[encoded data removed]",
      "text/plain": [
       "<Figure size 432x288 with 1 Axes>"
      ]
     },
     "metadata": {},
     "output_type": "display_data"
    }
   ],
   "source": [
    "features = ['실질GDP대비경상수지_캐나다','명목GDP대비경상수지_캐나다']\n",
    "plt.plot(full_df[features], label = features)\n",
    "plt.legend()\n",
    "plt.show()"
   ]
  },
  {
   "cell_type": "code",
   "execution_count": 47,
   "id": "59a4e491",
   "metadata": {
    "scrolled": true
   },
   "outputs": [
    {
     "data": {
      "image/png": "[encoded data removed]",
      "text/plain": [
       "<Figure size 432x288 with 1 Axes>"
      ]
     },
     "metadata": {},
     "output_type": "display_data"
    }
   ],
   "source": [
    "features = ['실질GDP대비경상수지_한국','명목GDP대비경상수지_한국']\n",
    "plt.plot(full_df[features], label = features)\n",
    "plt.legend()\n",
    "plt.show()"
   ]
  },
  {
   "cell_type": "markdown",
   "id": "5aec7f00",
   "metadata": {},
   "source": [
    "> 한국의 실질GDP대비경상수지는 왜? => 위에서 단위 맞춰서 해결 "
   ]
  },
  {
   "cell_type": "markdown",
   "id": "e2312a26",
   "metadata": {},
   "source": [
    "> 한국의 경상수지는 월별 데이터이지만 나머지는 분기별 데이터임.  \n",
    "명목GDP는 연별 데이터  "
   ]
  },
  {
   "cell_type": "code",
   "execution_count": 48,
   "id": "8249ed64",
   "metadata": {},
   "outputs": [
    {
     "data": {
      "text/plain": [
       "Index(['GDP_미국', 'GDP_캐나다', 'GDP_한국', '경상수지_미국', '경상수지_캐나다', '경상수지_한국',\n",
       "       '경제성장율_미국', '경제성장율_캐나다', '경제성장율_한국', '국채1년물_미국', '국채1년물_한국', '기준금리_미국',\n",
       "       '기준금리_캐나다', '기준금리_한국', '생산자물가지수_미국', '생산자물가지수_캐나다', '생산자물가지수_한국',\n",
       "       '소비자물가지수_미국', '소비자물가지수_캐나다', '소비자물가지수_한국', '실업률_미국', '실업률_캐나다',\n",
       "       '실업률_한국', '외환보유액_캐나다', '외환보유액_한국', '환율_CADKRW', '환율_CADUSD',\n",
       "       '환율_KRWUSD', 'GDP_CONSTANT_KOR', 'GDP_CONSTANT_CAN', 'GDP_CONSTANT_USA',\n",
       "       'GDP_CURRENT_KOR', 'GDP_CURRENT_CAN', 'GDP_CURRENT_USA',\n",
       "       'GDP_GROWTH_KOR', 'GDP_GROWTH_CAN', 'GDP_GROWTH_USA', 'PPP_XR_KOR',\n",
       "       'PPP_XR_CAN', 'PPP_XR_USA', '명목GDP_미국', '명목GDP_한국', '명목GDP_캐나다',\n",
       "       '실질GDP_미국', '실질GDP_캐나다', '실질GDP_한국', '조정경상수지_한국', '조정경상수지_캐나다',\n",
       "       '조정경상수지_미국', '명목GDP대비경상수지_미국', '명목GDP대비경상수지_캐나다', '명목GDP대비경상수지_한국',\n",
       "       '실질GDP대비경상수지_미국', '실질GDP대비경상수지_캐나다', '실질GDP대비경상수지_한국'],\n",
       "      dtype='object')"
      ]
     },
     "execution_count": 48,
     "metadata": {},
     "output_type": "execute_result"
    }
   ],
   "source": [
    "full_df.columns"
   ]
  },
  {
   "cell_type": "markdown",
   "id": "7757357c",
   "metadata": {},
   "source": [
    "### 2-3) 경제성장율 \n",
    "- 실질경제성장율을 그냥 사용하면 될듯  "
   ]
  },
  {
   "cell_type": "markdown",
   "id": "e303a203",
   "metadata": {},
   "source": [
    "### 2-4) 인플레이션\n",
    "- 물가지수 활용 \n",
    "- 기준금리 활용"
   ]
  },
  {
   "cell_type": "code",
   "execution_count": 49,
   "id": "df25864d",
   "metadata": {},
   "outputs": [
    {
     "data": {
      "image/png": "[encoded data removed]",
      "text/plain": [
       "<Figure size 432x288 with 1 Axes>"
      ]
     },
     "metadata": {},
     "output_type": "display_data"
    }
   ],
   "source": [
    "plt.plot(full_df[['소비자물가지수_한국','소비자물가지수_미국','소비자물가지수_캐나다']].tail(12))\n",
    "plt.show()"
   ]
  },
  {
   "cell_type": "markdown",
   "id": "46548b47",
   "metadata": {},
   "source": [
    "> 데이터는 월별로 존재"
   ]
  },
  {
   "cell_type": "code",
   "execution_count": 50,
   "id": "c58d64d6",
   "metadata": {},
   "outputs": [],
   "source": [
    "full_df['CPI인플레이션_한국'] = full_df['소비자물가지수_한국'].pct_change(1)\n",
    "full_df['CPI인플레이션_미국'] = full_df['소비자물가지수_미국'].pct_change(1)\n",
    "full_df['CPI인플레이션_캐나다'] = full_df['소비자물가지수_캐나다'].pct_change(1)"
   ]
  },
  {
   "cell_type": "code",
   "execution_count": 51,
   "id": "523a7390",
   "metadata": {},
   "outputs": [
    {
     "data": {
      "image/png": "[encoded data removed]",
      "text/plain": [
       "<Figure size 432x288 with 1 Axes>"
      ]
     },
     "metadata": {},
     "output_type": "display_data"
    }
   ],
   "source": [
    "plt.plot(full_df[['CPI인플레이션_미국','CPI인플레이션_한국','CPI인플레이션_캐나다']], label = ['CPI인플레이션_미국','CPI인플레이션_한국','CPI인플레이션_캐나다'])\n",
    "plt.legend()\n",
    "plt.show()"
   ]
  },
  {
   "cell_type": "code",
   "execution_count": 52,
   "id": "e96e66e8",
   "metadata": {},
   "outputs": [
    {
     "data": {
      "image/png": "[encoded data removed]",
      "text/plain": [
       "<Figure size 432x288 with 1 Axes>"
      ]
     },
     "metadata": {},
     "output_type": "display_data"
    }
   ],
   "source": [
    "plt.plot(full_df[['생산자물가지수_한국','생산자물가지수_미국','생산자물가지수_캐나다']].tail(12))\n",
    "plt.show()"
   ]
  },
  {
   "cell_type": "code",
   "execution_count": 53,
   "id": "105ae491",
   "metadata": {
    "scrolled": true
   },
   "outputs": [
    {
     "data": {
      "text/html": [
       "<div>\n",
       "<style scoped>\n",
       "    .dataframe tbody tr th:only-of-type {\n",
       "        vertical-align: middle;\n",
       "    }\n",
       "\n",
       "    .dataframe tbody tr th {\n",
       "        vertical-align: top;\n",
       "    }\n",
       "\n",
       "    .dataframe thead th {\n",
       "        text-align: right;\n",
       "    }\n",
       "</style>\n",
       "<table border=\"1\" class=\"dataframe\">\n",
       "  <thead>\n",
       "    <tr style=\"text-align: right;\">\n",
       "      <th></th>\n",
       "      <th>생산자물가지수_한국</th>\n",
       "      <th>생산자물가지수_미국</th>\n",
       "      <th>생산자물가지수_캐나다</th>\n",
       "    </tr>\n",
       "    <tr>\n",
       "      <th>date</th>\n",
       "      <th></th>\n",
       "      <th></th>\n",
       "      <th></th>\n",
       "    </tr>\n",
       "  </thead>\n",
       "  <tbody>\n",
       "    <tr>\n",
       "      <th>2021-07-31</th>\n",
       "      <td>110.28</td>\n",
       "      <td>125.57</td>\n",
       "      <td>117.09</td>\n",
       "    </tr>\n",
       "    <tr>\n",
       "      <th>2021-08-31</th>\n",
       "      <td>110.86</td>\n",
       "      <td>126.20</td>\n",
       "      <td>117.09</td>\n",
       "    </tr>\n",
       "    <tr>\n",
       "      <th>2021-09-30</th>\n",
       "      <td>111.27</td>\n",
       "      <td>126.83</td>\n",
       "      <td>117.09</td>\n",
       "    </tr>\n",
       "    <tr>\n",
       "      <th>2021-10-31</th>\n",
       "      <td>112.43</td>\n",
       "      <td>127.78</td>\n",
       "      <td>117.09</td>\n",
       "    </tr>\n",
       "    <tr>\n",
       "      <th>2021-11-30</th>\n",
       "      <td>113.23</td>\n",
       "      <td>128.47</td>\n",
       "      <td>117.09</td>\n",
       "    </tr>\n",
       "    <tr>\n",
       "      <th>2021-12-31</th>\n",
       "      <td>113.21</td>\n",
       "      <td>128.47</td>\n",
       "      <td>117.09</td>\n",
       "    </tr>\n",
       "    <tr>\n",
       "      <th>2022-01-31</th>\n",
       "      <td>114.40</td>\n",
       "      <td>128.47</td>\n",
       "      <td>117.09</td>\n",
       "    </tr>\n",
       "    <tr>\n",
       "      <th>2022-02-28</th>\n",
       "      <td>114.95</td>\n",
       "      <td>128.47</td>\n",
       "      <td>117.09</td>\n",
       "    </tr>\n",
       "    <tr>\n",
       "      <th>2022-03-31</th>\n",
       "      <td>116.70</td>\n",
       "      <td>128.47</td>\n",
       "      <td>117.09</td>\n",
       "    </tr>\n",
       "    <tr>\n",
       "      <th>2022-04-30</th>\n",
       "      <td>118.02</td>\n",
       "      <td>128.47</td>\n",
       "      <td>117.09</td>\n",
       "    </tr>\n",
       "    <tr>\n",
       "      <th>2022-05-31</th>\n",
       "      <td>119.24</td>\n",
       "      <td>128.47</td>\n",
       "      <td>117.09</td>\n",
       "    </tr>\n",
       "    <tr>\n",
       "      <th>2022-06-30</th>\n",
       "      <td>120.04</td>\n",
       "      <td>128.47</td>\n",
       "      <td>117.09</td>\n",
       "    </tr>\n",
       "    <tr>\n",
       "      <th>2022-07-31</th>\n",
       "      <td>120.04</td>\n",
       "      <td>128.47</td>\n",
       "      <td>117.09</td>\n",
       "    </tr>\n",
       "    <tr>\n",
       "      <th>2022-08-31</th>\n",
       "      <td>120.04</td>\n",
       "      <td>128.47</td>\n",
       "      <td>117.09</td>\n",
       "    </tr>\n",
       "    <tr>\n",
       "      <th>2022-09-30</th>\n",
       "      <td>120.04</td>\n",
       "      <td>128.47</td>\n",
       "      <td>117.09</td>\n",
       "    </tr>\n",
       "  </tbody>\n",
       "</table>\n",
       "</div>"
      ],
      "text/plain": [
       "            생산자물가지수_한국  생산자물가지수_미국  생산자물가지수_캐나다\n",
       "date                                           \n",
       "2021-07-31      110.28      125.57       117.09\n",
       "2021-08-31      110.86      126.20       117.09\n",
       "2021-09-30      111.27      126.83       117.09\n",
       "2021-10-31      112.43      127.78       117.09\n",
       "2021-11-30      113.23      128.47       117.09\n",
       "2021-12-31      113.21      128.47       117.09\n",
       "2022-01-31      114.40      128.47       117.09\n",
       "2022-02-28      114.95      128.47       117.09\n",
       "2022-03-31      116.70      128.47       117.09\n",
       "2022-04-30      118.02      128.47       117.09\n",
       "2022-05-31      119.24      128.47       117.09\n",
       "2022-06-30      120.04      128.47       117.09\n",
       "2022-07-31      120.04      128.47       117.09\n",
       "2022-08-31      120.04      128.47       117.09\n",
       "2022-09-30      120.04      128.47       117.09"
      ]
     },
     "execution_count": 53,
     "metadata": {},
     "output_type": "execute_result"
    }
   ],
   "source": [
    "full_df[['생산자물가지수_한국','생산자물가지수_미국','생산자물가지수_캐나다']].tail(15)"
   ]
  },
  {
   "cell_type": "markdown",
   "id": "f7be1ef6",
   "metadata": {},
   "source": [
    "> 데이터가 관리되지 않는 듯하니.. 패스  "
   ]
  },
  {
   "cell_type": "code",
   "execution_count": 54,
   "id": "44bf4f4d",
   "metadata": {},
   "outputs": [],
   "source": [
    "full_df['금리갭_캐나다한국'] = full_df['기준금리_캐나다'] - full_df['기준금리_한국']\n",
    "full_df['금리갭_캐나다미국'] = full_df['기준금리_캐나다'] - full_df['기준금리_미국']\n",
    "full_df['금리갭_미국한국'] = full_df['기준금리_미국'] - full_df['기준금리_한국']"
   ]
  },
  {
   "cell_type": "markdown",
   "id": "d9658b6c",
   "metadata": {},
   "source": [
    "full_df['국채갭_캐나다한국'] = full_df['기준금리_캐나다'] - full_df['국채1년물_한국']\n",
    "full_df['국채갭_캐나다미국'] = full_df['기준금리_캐나다'] - full_df['국채1년물_미국']\n",
    "full_df['국채갭_미국한국'] = full_df['국채1년물_미국'] - full_df['국채1년물_한국']"
   ]
  },
  {
   "cell_type": "code",
   "execution_count": 55,
   "id": "cf9f8cfc",
   "metadata": {},
   "outputs": [
    {
     "data": {
      "text/plain": [
       "Index(['GDP_미국', 'GDP_캐나다', 'GDP_한국', '경상수지_미국', '경상수지_캐나다', '경상수지_한국',\n",
       "       '경제성장율_미국', '경제성장율_캐나다', '경제성장율_한국', '국채1년물_미국', '국채1년물_한국', '기준금리_미국',\n",
       "       '기준금리_캐나다', '기준금리_한국', '생산자물가지수_미국', '생산자물가지수_캐나다', '생산자물가지수_한국',\n",
       "       '소비자물가지수_미국', '소비자물가지수_캐나다', '소비자물가지수_한국', '실업률_미국', '실업률_캐나다',\n",
       "       '실업률_한국', '외환보유액_캐나다', '외환보유액_한국', '환율_CADKRW', '환율_CADUSD',\n",
       "       '환율_KRWUSD', 'GDP_CONSTANT_KOR', 'GDP_CONSTANT_CAN', 'GDP_CONSTANT_USA',\n",
       "       'GDP_CURRENT_KOR', 'GDP_CURRENT_CAN', 'GDP_CURRENT_USA',\n",
       "       'GDP_GROWTH_KOR', 'GDP_GROWTH_CAN', 'GDP_GROWTH_USA', 'PPP_XR_KOR',\n",
       "       'PPP_XR_CAN', 'PPP_XR_USA', '명목GDP_미국', '명목GDP_한국', '명목GDP_캐나다',\n",
       "       '실질GDP_미국', '실질GDP_캐나다', '실질GDP_한국', '조정경상수지_한국', '조정경상수지_캐나다',\n",
       "       '조정경상수지_미국', '명목GDP대비경상수지_미국', '명목GDP대비경상수지_캐나다', '명목GDP대비경상수지_한국',\n",
       "       '실질GDP대비경상수지_미국', '실질GDP대비경상수지_캐나다', '실질GDP대비경상수지_한국', 'CPI인플레이션_한국',\n",
       "       'CPI인플레이션_미국', 'CPI인플레이션_캐나다', '금리갭_캐나다한국', '금리갭_캐나다미국', '금리갭_미국한국'],\n",
       "      dtype='object')"
      ]
     },
     "execution_count": 55,
     "metadata": {},
     "output_type": "execute_result"
    }
   ],
   "source": [
    "full_df.columns"
   ]
  },
  {
   "cell_type": "markdown",
   "id": "a66c3bfc",
   "metadata": {},
   "source": [
    "### 2-5) 외환보유금액  \n",
    "- 실질? 명목? 어떤것일지 몰라서 둘다 넣어두고 더 잘 설명되는 내용으로,  \n",
    "- 증가율도 , 월 단위 입수 데이터임   \n",
    "- 단위는 달러로 좀 맞추고 시작 "
   ]
  },
  {
   "cell_type": "code",
   "execution_count": 56,
   "id": "59ccc01d",
   "metadata": {},
   "outputs": [],
   "source": [
    "full_df['외환보유액_한국'] *= 1000000\n",
    "full_df['외환보유액_캐나다'] *=1000000"
   ]
  },
  {
   "cell_type": "code",
   "execution_count": 57,
   "id": "4ab4de6a",
   "metadata": {},
   "outputs": [],
   "source": [
    "full_df['명목GDP대비외환보유액_한국'] = full_df['외환보유액_한국'] / full_df['명목GDP_한국']\n",
    "full_df['명목GDP대비외환보유액_캐나다'] = full_df['외환보유액_캐나다'] / full_df['명목GDP_캐나다']\n",
    "\n",
    "full_df['실질GDP대비외환보유액_한국'] = full_df['외환보유액_한국'] / full_df['실질GDP_한국']\n",
    "full_df['실질GDP대비외환보유액_캐나다'] = full_df['외환보유액_캐나다'] / full_df['실질GDP_캐나다']\n",
    "\n",
    "full_df['외환보유비중'] = full_df['외환보유액_한국']/full_df['외환보유액_캐나다']\n",
    "\n",
    "full_df['외환보유증감_한국'] = full_df['외환보유액_한국'].pct_change(1)\n",
    "full_df['외환보유증감_캐나다'] = full_df['외환보유액_캐나다'].pct_change(1)"
   ]
  },
  {
   "cell_type": "code",
   "execution_count": 58,
   "id": "7b1f45c4",
   "metadata": {},
   "outputs": [
    {
     "data": {
      "text/plain": [
       "Index(['GDP_미국', 'GDP_캐나다', 'GDP_한국', '경상수지_미국', '경상수지_캐나다', '경상수지_한국',\n",
       "       '경제성장율_미국', '경제성장율_캐나다', '경제성장율_한국', '국채1년물_미국', '국채1년물_한국', '기준금리_미국',\n",
       "       '기준금리_캐나다', '기준금리_한국', '생산자물가지수_미국', '생산자물가지수_캐나다', '생산자물가지수_한국',\n",
       "       '소비자물가지수_미국', '소비자물가지수_캐나다', '소비자물가지수_한국', '실업률_미국', '실업률_캐나다',\n",
       "       '실업률_한국', '외환보유액_캐나다', '외환보유액_한국', '환율_CADKRW', '환율_CADUSD',\n",
       "       '환율_KRWUSD', 'GDP_CONSTANT_KOR', 'GDP_CONSTANT_CAN', 'GDP_CONSTANT_USA',\n",
       "       'GDP_CURRENT_KOR', 'GDP_CURRENT_CAN', 'GDP_CURRENT_USA',\n",
       "       'GDP_GROWTH_KOR', 'GDP_GROWTH_CAN', 'GDP_GROWTH_USA', 'PPP_XR_KOR',\n",
       "       'PPP_XR_CAN', 'PPP_XR_USA', '명목GDP_미국', '명목GDP_한국', '명목GDP_캐나다',\n",
       "       '실질GDP_미국', '실질GDP_캐나다', '실질GDP_한국', '조정경상수지_한국', '조정경상수지_캐나다',\n",
       "       '조정경상수지_미국', '명목GDP대비경상수지_미국', '명목GDP대비경상수지_캐나다', '명목GDP대비경상수지_한국',\n",
       "       '실질GDP대비경상수지_미국', '실질GDP대비경상수지_캐나다', '실질GDP대비경상수지_한국', 'CPI인플레이션_한국',\n",
       "       'CPI인플레이션_미국', 'CPI인플레이션_캐나다', '금리갭_캐나다한국', '금리갭_캐나다미국', '금리갭_미국한국',\n",
       "       '명목GDP대비외환보유액_한국', '명목GDP대비외환보유액_캐나다', '실질GDP대비외환보유액_한국',\n",
       "       '실질GDP대비외환보유액_캐나다', '외환보유비중', '외환보유증감_한국', '외환보유증감_캐나다'],\n",
       "      dtype='object')"
      ]
     },
     "execution_count": 58,
     "metadata": {},
     "output_type": "execute_result"
    }
   ],
   "source": [
    "full_df.columns"
   ]
  },
  {
   "cell_type": "markdown",
   "id": "cc836543",
   "metadata": {},
   "source": [
    "### 2-6) 환율 정보 \n",
    "- ppp xr 조정 \n",
    "- 실질 환율 계산\n",
    "- 환율 모멘텀 추가?  "
   ]
  },
  {
   "cell_type": "code",
   "execution_count": 59,
   "id": "02e5977b",
   "metadata": {},
   "outputs": [],
   "source": [
    "full_df['실질환율_KRWUSD'] = full_df['PPP_XR_KOR'] / full_df['환율_KRWUSD'] # indirect 니까 분자분모 이렇게 \n",
    "full_df['실질환율_CADUSD'] = full_df['PPP_XR_CAN'] / full_df['환율_CADUSD'] # 1달러 = 1.29캐나다달러"
   ]
  },
  {
   "cell_type": "code",
   "execution_count": 60,
   "id": "61f71e91",
   "metadata": {},
   "outputs": [
    {
     "data": {
      "text/plain": [
       "date\n",
       "2022-07-31    0.664222\n",
       "2022-08-31    0.667808\n",
       "2022-09-30    0.667808\n",
       "Freq: M, Name: 실질환율_KRWCAD, dtype: float64"
      ]
     },
     "execution_count": 60,
     "metadata": {},
     "output_type": "execute_result"
    }
   ],
   "source": [
    "full_df['실질환율_KRWCAD'] = full_df['실질환율_KRWUSD'] / full_df['실질환율_CADUSD']\n",
    "full_df['실질환율_KRWCAD'].tail(3)"
   ]
  },
  {
   "cell_type": "code",
   "execution_count": 61,
   "id": "7fe1b5fc",
   "metadata": {
    "scrolled": true
   },
   "outputs": [
    {
     "data": {
      "text/html": [
       "<div>\n",
       "<style scoped>\n",
       "    .dataframe tbody tr th:only-of-type {\n",
       "        vertical-align: middle;\n",
       "    }\n",
       "\n",
       "    .dataframe tbody tr th {\n",
       "        vertical-align: top;\n",
       "    }\n",
       "\n",
       "    .dataframe thead th {\n",
       "        text-align: right;\n",
       "    }\n",
       "</style>\n",
       "<table border=\"1\" class=\"dataframe\">\n",
       "  <thead>\n",
       "    <tr style=\"text-align: right;\">\n",
       "      <th></th>\n",
       "      <th>실질환율_CADUSD</th>\n",
       "      <th>실질환율_KRWUSD</th>\n",
       "      <th>실질환율_KRWCAD</th>\n",
       "    </tr>\n",
       "    <tr>\n",
       "      <th>date</th>\n",
       "      <th></th>\n",
       "      <th></th>\n",
       "      <th></th>\n",
       "    </tr>\n",
       "  </thead>\n",
       "  <tbody>\n",
       "    <tr>\n",
       "      <th>2022-05-31</th>\n",
       "      <td>0.990018</td>\n",
       "      <td>0.680251</td>\n",
       "      <td>0.687110</td>\n",
       "    </tr>\n",
       "    <tr>\n",
       "      <th>2022-06-30</th>\n",
       "      <td>0.972123</td>\n",
       "      <td>0.655470</td>\n",
       "      <td>0.674267</td>\n",
       "    </tr>\n",
       "    <tr>\n",
       "      <th>2022-07-31</th>\n",
       "      <td>0.978423</td>\n",
       "      <td>0.649890</td>\n",
       "      <td>0.664222</td>\n",
       "    </tr>\n",
       "    <tr>\n",
       "      <th>2022-08-31</th>\n",
       "      <td>0.972349</td>\n",
       "      <td>0.649342</td>\n",
       "      <td>0.667808</td>\n",
       "    </tr>\n",
       "    <tr>\n",
       "      <th>2022-09-30</th>\n",
       "      <td>0.972349</td>\n",
       "      <td>0.649342</td>\n",
       "      <td>0.667808</td>\n",
       "    </tr>\n",
       "  </tbody>\n",
       "</table>\n",
       "</div>"
      ],
      "text/plain": [
       "            실질환율_CADUSD  실질환율_KRWUSD  실질환율_KRWCAD\n",
       "date                                             \n",
       "2022-05-31     0.990018     0.680251     0.687110\n",
       "2022-06-30     0.972123     0.655470     0.674267\n",
       "2022-07-31     0.978423     0.649890     0.664222\n",
       "2022-08-31     0.972349     0.649342     0.667808\n",
       "2022-09-30     0.972349     0.649342     0.667808"
      ]
     },
     "execution_count": 61,
     "metadata": {},
     "output_type": "execute_result"
    }
   ],
   "source": [
    "full_df[['실질환율_CADUSD','실질환율_KRWUSD','실질환율_KRWCAD']].tail()"
   ]
  },
  {
   "cell_type": "code",
   "execution_count": 62,
   "id": "ed62a651",
   "metadata": {},
   "outputs": [],
   "source": [
    "full_df['환율_CADKRW_RET'] = full_df[['환율_CADKRW']].pct_change(1)\n",
    "full_df['환율_CADUSD_RET'] = full_df[['환율_CADUSD']].pct_change(1)\n",
    "full_df['환율_KRWUSD_RET'] = full_df[['환율_KRWUSD']].pct_change(1)"
   ]
  },
  {
   "cell_type": "code",
   "execution_count": 63,
   "id": "63767f58",
   "metadata": {},
   "outputs": [
    {
     "data": {
      "text/plain": [
       "Index(['GDP_미국', 'GDP_캐나다', 'GDP_한국', '경상수지_미국', '경상수지_캐나다', '경상수지_한국',\n",
       "       '경제성장율_미국', '경제성장율_캐나다', '경제성장율_한국', '국채1년물_미국', '국채1년물_한국', '기준금리_미국',\n",
       "       '기준금리_캐나다', '기준금리_한국', '생산자물가지수_미국', '생산자물가지수_캐나다', '생산자물가지수_한국',\n",
       "       '소비자물가지수_미국', '소비자물가지수_캐나다', '소비자물가지수_한국', '실업률_미국', '실업률_캐나다',\n",
       "       '실업률_한국', '외환보유액_캐나다', '외환보유액_한국', '환율_CADKRW', '환율_CADUSD',\n",
       "       '환율_KRWUSD', 'GDP_CONSTANT_KOR', 'GDP_CONSTANT_CAN', 'GDP_CONSTANT_USA',\n",
       "       'GDP_CURRENT_KOR', 'GDP_CURRENT_CAN', 'GDP_CURRENT_USA',\n",
       "       'GDP_GROWTH_KOR', 'GDP_GROWTH_CAN', 'GDP_GROWTH_USA', 'PPP_XR_KOR',\n",
       "       'PPP_XR_CAN', 'PPP_XR_USA', '명목GDP_미국', '명목GDP_한국', '명목GDP_캐나다',\n",
       "       '실질GDP_미국', '실질GDP_캐나다', '실질GDP_한국', '조정경상수지_한국', '조정경상수지_캐나다',\n",
       "       '조정경상수지_미국', '명목GDP대비경상수지_미국', '명목GDP대비경상수지_캐나다', '명목GDP대비경상수지_한국',\n",
       "       '실질GDP대비경상수지_미국', '실질GDP대비경상수지_캐나다', '실질GDP대비경상수지_한국', 'CPI인플레이션_한국',\n",
       "       'CPI인플레이션_미국', 'CPI인플레이션_캐나다', '금리갭_캐나다한국', '금리갭_캐나다미국', '금리갭_미국한국',\n",
       "       '명목GDP대비외환보유액_한국', '명목GDP대비외환보유액_캐나다', '실질GDP대비외환보유액_한국',\n",
       "       '실질GDP대비외환보유액_캐나다', '외환보유비중', '외환보유증감_한국', '외환보유증감_캐나다', '실질환율_KRWUSD',\n",
       "       '실질환율_CADUSD', '실질환율_KRWCAD', '환율_CADKRW_RET', '환율_CADUSD_RET',\n",
       "       '환율_KRWUSD_RET'],\n",
       "      dtype='object')"
      ]
     },
     "execution_count": 63,
     "metadata": {},
     "output_type": "execute_result"
    }
   ],
   "source": [
    "full_df.columns"
   ]
  },
  {
   "cell_type": "markdown",
   "id": "7224f7bb",
   "metadata": {},
   "source": [
    "### 2-7) 실업률 \n",
    "- 실업률이 왜 관계있는지?  "
   ]
  },
  {
   "cell_type": "markdown",
   "id": "87e0b6c7",
   "metadata": {},
   "source": [
    "### 2-8) 조정완료된 항목 삭제  "
   ]
  },
  {
   "cell_type": "code",
   "execution_count": 64,
   "id": "8cafc7e6",
   "metadata": {},
   "outputs": [],
   "source": [
    "remove_lst = ['GDP_미국','GDP_캐나다','GDP_한국',     \n",
    "              'GDP_CURRENT_CAN','GDP_CURRENT_USA','GDP_CURRENT_KOR',                \n",
    "              '명목GDP_미국','명목GDP_캐나다','명목GDP_한국',                \n",
    "              '실질GDP_미국','실질GDP_캐나다','실질GDP_한국',\n",
    "              '경상수지_미국','경상수지_캐나다','경상수지_한국',    \n",
    "              '조정경상수지_미국','조정경상수지_캐나다','조정경상수지_한국',\n",
    "              '소비자물가지수_미국','소비자물가지수_캐나다','소비자물가지수_한국',\n",
    "              '생산자물가지수_미국','생산자물가지수_캐나다','생산자물가지수_한국',\n",
    "              '외환보유액_캐나다','외환보유액_한국','환율_CADUSD','환율_KRWUSD','PPP_XR_KOR','PPP_XR_CAN','PPP_XR_USA',\n",
    "              'GDP_CONSTANT_KOR', 'GDP_CONSTANT_CAN', 'GDP_CONSTANT_USA',\n",
    "              'GDP_GROWTH_KOR', 'GDP_GROWTH_CAN', 'GDP_GROWTH_USA', ]\n",
    "for c in remove_lst:\n",
    "    try:\n",
    "        full_df.drop(c, axis = 1, inplace = True)\n",
    "    except:\n",
    "        continue"
   ]
  },
  {
   "cell_type": "code",
   "execution_count": 65,
   "id": "70748507",
   "metadata": {},
   "outputs": [
    {
     "data": {
      "text/plain": [
       "Index(['경제성장율_미국', '경제성장율_캐나다', '경제성장율_한국', '국채1년물_미국', '국채1년물_한국', '기준금리_미국',\n",
       "       '기준금리_캐나다', '기준금리_한국', '실업률_미국', '실업률_캐나다', '실업률_한국', '환율_CADKRW',\n",
       "       '명목GDP대비경상수지_미국', '명목GDP대비경상수지_캐나다', '명목GDP대비경상수지_한국', '실질GDP대비경상수지_미국',\n",
       "       '실질GDP대비경상수지_캐나다', '실질GDP대비경상수지_한국', 'CPI인플레이션_한국', 'CPI인플레이션_미국',\n",
       "       'CPI인플레이션_캐나다', '금리갭_캐나다한국', '금리갭_캐나다미국', '금리갭_미국한국', '명목GDP대비외환보유액_한국',\n",
       "       '명목GDP대비외환보유액_캐나다', '실질GDP대비외환보유액_한국', '실질GDP대비외환보유액_캐나다', '외환보유비중',\n",
       "       '외환보유증감_한국', '외환보유증감_캐나다', '실질환율_KRWUSD', '실질환율_CADUSD', '실질환율_KRWCAD',\n",
       "       '환율_CADKRW_RET', '환율_CADUSD_RET', '환율_KRWUSD_RET'],\n",
       "      dtype='object')"
      ]
     },
     "execution_count": 65,
     "metadata": {},
     "output_type": "execute_result"
    }
   ],
   "source": [
    "full_df.columns"
   ]
  },
  {
   "cell_type": "markdown",
   "id": "f7008851",
   "metadata": {},
   "source": [
    "## 3. 목표변수 설정 \n",
    "- 12개월 수익률 대신 1 / 3 / 6 / 12 M 을 각자 진행"
   ]
  },
  {
   "cell_type": "code",
   "execution_count": 66,
   "id": "4dc00a3d",
   "metadata": {},
   "outputs": [],
   "source": [
    "df = full_df.copy()"
   ]
  },
  {
   "cell_type": "code",
   "execution_count": 67,
   "id": "e84f7508",
   "metadata": {},
   "outputs": [],
   "source": [
    "periods = 3\n",
    "df['환율_RET'] = df['환율_CADKRW'].pct_change(periods = periods)\n",
    "df[f'환율_RET{periods}'] = df['환율_RET'].shift(-periods)"
   ]
  },
  {
   "cell_type": "code",
   "execution_count": 68,
   "id": "8d21c21a",
   "metadata": {},
   "outputs": [
    {
     "data": {
      "image/png": "[encoded data removed]",
      "text/plain": [
       "<Figure size 432x288 with 1 Axes>"
      ]
     },
     "metadata": {},
     "output_type": "display_data"
    }
   ],
   "source": [
    "plt.plot(df[f'환율_RET'])\n",
    "plt.show()"
   ]
  },
  {
   "cell_type": "code",
   "execution_count": 69,
   "id": "3a309bd3",
   "metadata": {},
   "outputs": [],
   "source": [
    "df.drop(['환율_CADKRW','환율_RET'], axis = 1, inplace = True)"
   ]
  },
  {
   "cell_type": "code",
   "execution_count": 70,
   "id": "fb882be8",
   "metadata": {},
   "outputs": [],
   "source": [
    "full_df.to_excel('full_df.xlsx')"
   ]
  },
  {
   "cell_type": "markdown",
   "id": "90e5b828",
   "metadata": {},
   "source": [
    "## 4. EDA\n",
    "- 최소한의 eda만.."
   ]
  },
  {
   "cell_type": "code",
   "execution_count": 71,
   "id": "575693f0",
   "metadata": {
    "scrolled": true
   },
   "outputs": [
    {
     "data": {
      "text/html": [
       "<div>\n",
       "<style scoped>\n",
       "    .dataframe tbody tr th:only-of-type {\n",
       "        vertical-align: middle;\n",
       "    }\n",
       "\n",
       "    .dataframe tbody tr th {\n",
       "        vertical-align: top;\n",
       "    }\n",
       "\n",
       "    .dataframe thead th {\n",
       "        text-align: right;\n",
       "    }\n",
       "</style>\n",
       "<table border=\"1\" class=\"dataframe\">\n",
       "  <thead>\n",
       "    <tr style=\"text-align: right;\">\n",
       "      <th></th>\n",
       "      <th>count</th>\n",
       "      <th>mean</th>\n",
       "      <th>std</th>\n",
       "      <th>min</th>\n",
       "      <th>25%</th>\n",
       "      <th>50%</th>\n",
       "      <th>75%</th>\n",
       "      <th>max</th>\n",
       "    </tr>\n",
       "  </thead>\n",
       "  <tbody>\n",
       "    <tr>\n",
       "      <th>경제성장율_미국</th>\n",
       "      <td>213.0</td>\n",
       "      <td>0.452113</td>\n",
       "      <td>1.529785</td>\n",
       "      <td>-8.900000</td>\n",
       "      <td>0.200000</td>\n",
       "      <td>0.600000</td>\n",
       "      <td>0.800000</td>\n",
       "      <td>7.500000</td>\n",
       "    </tr>\n",
       "    <tr>\n",
       "      <th>경제성장율_캐나다</th>\n",
       "      <td>213.0</td>\n",
       "      <td>0.442723</td>\n",
       "      <td>1.852970</td>\n",
       "      <td>-11.000000</td>\n",
       "      <td>0.200000</td>\n",
       "      <td>0.600000</td>\n",
       "      <td>1.000000</td>\n",
       "      <td>9.000000</td>\n",
       "    </tr>\n",
       "    <tr>\n",
       "      <th>경제성장율_한국</th>\n",
       "      <td>213.0</td>\n",
       "      <td>0.803756</td>\n",
       "      <td>0.934499</td>\n",
       "      <td>-3.300000</td>\n",
       "      <td>0.500000</td>\n",
       "      <td>0.800000</td>\n",
       "      <td>1.200000</td>\n",
       "      <td>3.000000</td>\n",
       "    </tr>\n",
       "    <tr>\n",
       "      <th>국채1년물_미국</th>\n",
       "      <td>213.0</td>\n",
       "      <td>1.400751</td>\n",
       "      <td>1.576783</td>\n",
       "      <td>0.050000</td>\n",
       "      <td>0.180000</td>\n",
       "      <td>0.560000</td>\n",
       "      <td>2.240000</td>\n",
       "      <td>5.210000</td>\n",
       "    </tr>\n",
       "    <tr>\n",
       "      <th>국채1년물_한국</th>\n",
       "      <td>213.0</td>\n",
       "      <td>2.701850</td>\n",
       "      <td>1.355824</td>\n",
       "      <td>0.633000</td>\n",
       "      <td>1.566000</td>\n",
       "      <td>2.650000</td>\n",
       "      <td>3.480000</td>\n",
       "      <td>5.670000</td>\n",
       "    </tr>\n",
       "    <tr>\n",
       "      <th>기준금리_미국</th>\n",
       "      <td>213.0</td>\n",
       "      <td>1.282864</td>\n",
       "      <td>1.645178</td>\n",
       "      <td>0.125000</td>\n",
       "      <td>0.125000</td>\n",
       "      <td>0.125000</td>\n",
       "      <td>2.125000</td>\n",
       "      <td>5.250000</td>\n",
       "    </tr>\n",
       "    <tr>\n",
       "      <th>기준금리_캐나다</th>\n",
       "      <td>213.0</td>\n",
       "      <td>1.454225</td>\n",
       "      <td>1.260786</td>\n",
       "      <td>0.250000</td>\n",
       "      <td>0.500000</td>\n",
       "      <td>1.000000</td>\n",
       "      <td>1.750000</td>\n",
       "      <td>4.500000</td>\n",
       "    </tr>\n",
       "    <tr>\n",
       "      <th>기준금리_한국</th>\n",
       "      <td>213.0</td>\n",
       "      <td>2.383803</td>\n",
       "      <td>1.260450</td>\n",
       "      <td>0.500000</td>\n",
       "      <td>1.500000</td>\n",
       "      <td>2.000000</td>\n",
       "      <td>3.250000</td>\n",
       "      <td>5.250000</td>\n",
       "    </tr>\n",
       "    <tr>\n",
       "      <th>실업률_미국</th>\n",
       "      <td>213.0</td>\n",
       "      <td>6.071831</td>\n",
       "      <td>2.137834</td>\n",
       "      <td>3.500000</td>\n",
       "      <td>4.500000</td>\n",
       "      <td>5.200000</td>\n",
       "      <td>7.800000</td>\n",
       "      <td>14.700000</td>\n",
       "    </tr>\n",
       "    <tr>\n",
       "      <th>실업률_캐나다</th>\n",
       "      <td>213.0</td>\n",
       "      <td>6.976056</td>\n",
       "      <td>1.195013</td>\n",
       "      <td>4.900000</td>\n",
       "      <td>6.100000</td>\n",
       "      <td>6.900000</td>\n",
       "      <td>7.400000</td>\n",
       "      <td>13.400000</td>\n",
       "    </tr>\n",
       "    <tr>\n",
       "      <th>실업률_한국</th>\n",
       "      <td>213.0</td>\n",
       "      <td>3.526761</td>\n",
       "      <td>0.358571</td>\n",
       "      <td>2.700000</td>\n",
       "      <td>3.300000</td>\n",
       "      <td>3.500000</td>\n",
       "      <td>3.700000</td>\n",
       "      <td>5.200000</td>\n",
       "    </tr>\n",
       "    <tr>\n",
       "      <th>명목GDP대비경상수지_미국</th>\n",
       "      <td>213.0</td>\n",
       "      <td>-0.008299</td>\n",
       "      <td>0.003658</td>\n",
       "      <td>-0.018028</td>\n",
       "      <td>-0.011109</td>\n",
       "      <td>-0.006715</td>\n",
       "      <td>-0.005581</td>\n",
       "      <td>-0.003820</td>\n",
       "    </tr>\n",
       "    <tr>\n",
       "      <th>명목GDP대비경상수지_캐나다</th>\n",
       "      <td>213.0</td>\n",
       "      <td>-0.004069</td>\n",
       "      <td>0.005131</td>\n",
       "      <td>-0.012968</td>\n",
       "      <td>-0.008181</td>\n",
       "      <td>-0.005996</td>\n",
       "      <td>0.001100</td>\n",
       "      <td>0.009129</td>\n",
       "    </tr>\n",
       "    <tr>\n",
       "      <th>명목GDP대비경상수지_한국</th>\n",
       "      <td>213.0</td>\n",
       "      <td>0.003084</td>\n",
       "      <td>0.002699</td>\n",
       "      <td>-0.003668</td>\n",
       "      <td>0.001253</td>\n",
       "      <td>0.003428</td>\n",
       "      <td>0.004984</td>\n",
       "      <td>0.008465</td>\n",
       "    </tr>\n",
       "    <tr>\n",
       "      <th>실질GDP대비경상수지_미국</th>\n",
       "      <td>211.0</td>\n",
       "      <td>-0.007751</td>\n",
       "      <td>0.002956</td>\n",
       "      <td>-0.014881</td>\n",
       "      <td>-0.010182</td>\n",
       "      <td>-0.006808</td>\n",
       "      <td>-0.005419</td>\n",
       "      <td>-0.003838</td>\n",
       "    </tr>\n",
       "    <tr>\n",
       "      <th>실질GDP대비경상수지_캐나다</th>\n",
       "      <td>211.0</td>\n",
       "      <td>-0.004016</td>\n",
       "      <td>0.004528</td>\n",
       "      <td>-0.010939</td>\n",
       "      <td>-0.007225</td>\n",
       "      <td>-0.005809</td>\n",
       "      <td>0.000720</td>\n",
       "      <td>0.006851</td>\n",
       "    </tr>\n",
       "    <tr>\n",
       "      <th>실질GDP대비경상수지_한국</th>\n",
       "      <td>211.0</td>\n",
       "      <td>0.002668</td>\n",
       "      <td>0.002335</td>\n",
       "      <td>-0.002913</td>\n",
       "      <td>0.001092</td>\n",
       "      <td>0.002900</td>\n",
       "      <td>0.004394</td>\n",
       "      <td>0.007353</td>\n",
       "    </tr>\n",
       "    <tr>\n",
       "      <th>CPI인플레이션_한국</th>\n",
       "      <td>212.0</td>\n",
       "      <td>0.001826</td>\n",
       "      <td>0.003411</td>\n",
       "      <td>-0.007398</td>\n",
       "      <td>-0.000657</td>\n",
       "      <td>0.001771</td>\n",
       "      <td>0.003979</td>\n",
       "      <td>0.011879</td>\n",
       "    </tr>\n",
       "    <tr>\n",
       "      <th>CPI인플레이션_미국</th>\n",
       "      <td>212.0</td>\n",
       "      <td>0.002090</td>\n",
       "      <td>0.004153</td>\n",
       "      <td>-0.019130</td>\n",
       "      <td>-0.000122</td>\n",
       "      <td>0.001977</td>\n",
       "      <td>0.004694</td>\n",
       "      <td>0.013726</td>\n",
       "    </tr>\n",
       "    <tr>\n",
       "      <th>CPI인플레이션_캐나다</th>\n",
       "      <td>212.0</td>\n",
       "      <td>0.001769</td>\n",
       "      <td>0.003939</td>\n",
       "      <td>-0.010368</td>\n",
       "      <td>-0.000814</td>\n",
       "      <td>0.001675</td>\n",
       "      <td>0.004299</td>\n",
       "      <td>0.014361</td>\n",
       "    </tr>\n",
       "    <tr>\n",
       "      <th>금리갭_캐나다한국</th>\n",
       "      <td>213.0</td>\n",
       "      <td>-0.929577</td>\n",
       "      <td>0.748642</td>\n",
       "      <td>-2.250000</td>\n",
       "      <td>-1.500000</td>\n",
       "      <td>-0.750000</td>\n",
       "      <td>-0.250000</td>\n",
       "      <td>0.500000</td>\n",
       "    </tr>\n",
       "    <tr>\n",
       "      <th>금리갭_캐나다미국</th>\n",
       "      <td>213.0</td>\n",
       "      <td>0.171362</td>\n",
       "      <td>0.636782</td>\n",
       "      <td>-1.000000</td>\n",
       "      <td>-0.250000</td>\n",
       "      <td>0.125000</td>\n",
       "      <td>0.875000</td>\n",
       "      <td>1.375000</td>\n",
       "    </tr>\n",
       "    <tr>\n",
       "      <th>금리갭_미국한국</th>\n",
       "      <td>213.0</td>\n",
       "      <td>-1.100939</td>\n",
       "      <td>1.290131</td>\n",
       "      <td>-3.250000</td>\n",
       "      <td>-2.375000</td>\n",
       "      <td>-0.875000</td>\n",
       "      <td>0.000000</td>\n",
       "      <td>1.000000</td>\n",
       "    </tr>\n",
       "    <tr>\n",
       "      <th>명목GDP대비외환보유액_한국</th>\n",
       "      <td>213.0</td>\n",
       "      <td>0.250741</td>\n",
       "      <td>0.020961</td>\n",
       "      <td>0.171012</td>\n",
       "      <td>0.242883</td>\n",
       "      <td>0.251102</td>\n",
       "      <td>0.259529</td>\n",
       "      <td>0.310846</td>\n",
       "    </tr>\n",
       "    <tr>\n",
       "      <th>명목GDP대비외환보유액_캐나다</th>\n",
       "      <td>213.0</td>\n",
       "      <td>0.042269</td>\n",
       "      <td>0.009445</td>\n",
       "      <td>0.026576</td>\n",
       "      <td>0.034644</td>\n",
       "      <td>0.041097</td>\n",
       "      <td>0.051034</td>\n",
       "      <td>0.064749</td>\n",
       "    </tr>\n",
       "    <tr>\n",
       "      <th>실질GDP대비외환보유액_한국</th>\n",
       "      <td>211.0</td>\n",
       "      <td>0.212044</td>\n",
       "      <td>0.019438</td>\n",
       "      <td>0.150679</td>\n",
       "      <td>0.200482</td>\n",
       "      <td>0.218150</td>\n",
       "      <td>0.224001</td>\n",
       "      <td>0.248696</td>\n",
       "    </tr>\n",
       "    <tr>\n",
       "      <th>실질GDP대비외환보유액_캐나다</th>\n",
       "      <td>211.0</td>\n",
       "      <td>0.038249</td>\n",
       "      <td>0.009030</td>\n",
       "      <td>0.020900</td>\n",
       "      <td>0.031517</td>\n",
       "      <td>0.040880</td>\n",
       "      <td>0.044308</td>\n",
       "      <td>0.055035</td>\n",
       "    </tr>\n",
       "    <tr>\n",
       "      <th>외환보유비중</th>\n",
       "      <td>213.0</td>\n",
       "      <td>5.023364</td>\n",
       "      <td>0.643606</td>\n",
       "      <td>4.109964</td>\n",
       "      <td>4.626348</td>\n",
       "      <td>4.789306</td>\n",
       "      <td>5.101765</td>\n",
       "      <td>6.815047</td>\n",
       "    </tr>\n",
       "    <tr>\n",
       "      <th>외환보유증감_한국</th>\n",
       "      <td>212.0</td>\n",
       "      <td>0.003830</td>\n",
       "      <td>0.015102</td>\n",
       "      <td>-0.114402</td>\n",
       "      <td>-0.001534</td>\n",
       "      <td>0.004039</td>\n",
       "      <td>0.009500</td>\n",
       "      <td>0.067245</td>\n",
       "    </tr>\n",
       "    <tr>\n",
       "      <th>외환보유증감_캐나다</th>\n",
       "      <td>212.0</td>\n",
       "      <td>0.005686</td>\n",
       "      <td>0.027620</td>\n",
       "      <td>-0.045671</td>\n",
       "      <td>-0.009037</td>\n",
       "      <td>0.003062</td>\n",
       "      <td>0.012897</td>\n",
       "      <td>0.181155</td>\n",
       "    </tr>\n",
       "    <tr>\n",
       "      <th>실질환율_KRWUSD</th>\n",
       "      <td>213.0</td>\n",
       "      <td>0.753165</td>\n",
       "      <td>0.060664</td>\n",
       "      <td>0.518147</td>\n",
       "      <td>0.724897</td>\n",
       "      <td>0.759941</td>\n",
       "      <td>0.793193</td>\n",
       "      <td>0.857421</td>\n",
       "    </tr>\n",
       "    <tr>\n",
       "      <th>실질환율_CADUSD</th>\n",
       "      <td>213.0</td>\n",
       "      <td>1.056191</td>\n",
       "      <td>0.117859</td>\n",
       "      <td>0.879176</td>\n",
       "      <td>0.953359</td>\n",
       "      <td>1.025496</td>\n",
       "      <td>1.161364</td>\n",
       "      <td>1.286668</td>\n",
       "    </tr>\n",
       "    <tr>\n",
       "      <th>실질환율_KRWCAD</th>\n",
       "      <td>213.0</td>\n",
       "      <td>0.720526</td>\n",
       "      <td>0.088081</td>\n",
       "      <td>0.526252</td>\n",
       "      <td>0.628645</td>\n",
       "      <td>0.745202</td>\n",
       "      <td>0.795217</td>\n",
       "      <td>0.869708</td>\n",
       "    </tr>\n",
       "    <tr>\n",
       "      <th>환율_CADKRW_RET</th>\n",
       "      <td>212.0</td>\n",
       "      <td>0.001346</td>\n",
       "      <td>0.028152</td>\n",
       "      <td>-0.136799</td>\n",
       "      <td>-0.013200</td>\n",
       "      <td>0.001089</td>\n",
       "      <td>0.017340</td>\n",
       "      <td>0.118471</td>\n",
       "    </tr>\n",
       "    <tr>\n",
       "      <th>환율_CADUSD_RET</th>\n",
       "      <td>212.0</td>\n",
       "      <td>0.000503</td>\n",
       "      <td>0.025493</td>\n",
       "      <td>-0.073523</td>\n",
       "      <td>-0.016000</td>\n",
       "      <td>-0.000698</td>\n",
       "      <td>0.014417</td>\n",
       "      <td>0.146239</td>\n",
       "    </tr>\n",
       "    <tr>\n",
       "      <th>환율_KRWUSD_RET</th>\n",
       "      <td>212.0</td>\n",
       "      <td>0.001608</td>\n",
       "      <td>0.030986</td>\n",
       "      <td>-0.151885</td>\n",
       "      <td>-0.014547</td>\n",
       "      <td>0.000538</td>\n",
       "      <td>0.014324</td>\n",
       "      <td>0.148134</td>\n",
       "    </tr>\n",
       "    <tr>\n",
       "      <th>환율_RET3</th>\n",
       "      <td>210.0</td>\n",
       "      <td>0.003678</td>\n",
       "      <td>0.039569</td>\n",
       "      <td>-0.095235</td>\n",
       "      <td>-0.022611</td>\n",
       "      <td>0.004224</td>\n",
       "      <td>0.028566</td>\n",
       "      <td>0.168949</td>\n",
       "    </tr>\n",
       "  </tbody>\n",
       "</table>\n",
       "</div>"
      ],
      "text/plain": [
       "                  count      mean       std        min       25%       50%  \\\n",
       "경제성장율_미국          213.0  0.452113  1.529785  -8.900000  0.200000  0.600000   \n",
       "경제성장율_캐나다         213.0  0.442723  1.852970 -11.000000  0.200000  0.600000   \n",
       "경제성장율_한국          213.0  0.803756  0.934499  -3.300000  0.500000  0.800000   \n",
       "국채1년물_미국          213.0  1.400751  1.576783   0.050000  0.180000  0.560000   \n",
       "국채1년물_한국          213.0  2.701850  1.355824   0.633000  1.566000  2.650000   \n",
       "기준금리_미국           213.0  1.282864  1.645178   0.125000  0.125000  0.125000   \n",
       "기준금리_캐나다          213.0  1.454225  1.260786   0.250000  0.500000  1.000000   \n",
       "기준금리_한국           213.0  2.383803  1.260450   0.500000  1.500000  2.000000   \n",
       "실업률_미국            213.0  6.071831  2.137834   3.500000  4.500000  5.200000   \n",
       "실업률_캐나다           213.0  6.976056  1.195013   4.900000  6.100000  6.900000   \n",
       "실업률_한국            213.0  3.526761  0.358571   2.700000  3.300000  3.500000   \n",
       "명목GDP대비경상수지_미국    213.0 -0.008299  0.003658  -0.018028 -0.011109 -0.006715   \n",
       "명목GDP대비경상수지_캐나다   213.0 -0.004069  0.005131  -0.012968 -0.008181 -0.005996   \n",
       "명목GDP대비경상수지_한국    213.0  0.003084  0.002699  -0.003668  0.001253  0.003428   \n",
       "실질GDP대비경상수지_미국    211.0 -0.007751  0.002956  -0.014881 -0.010182 -0.006808   \n",
       "실질GDP대비경상수지_캐나다   211.0 -0.004016  0.004528  -0.010939 -0.007225 -0.005809   \n",
       "실질GDP대비경상수지_한국    211.0  0.002668  0.002335  -0.002913  0.001092  0.002900   \n",
       "CPI인플레이션_한국       212.0  0.001826  0.003411  -0.007398 -0.000657  0.001771   \n",
       "CPI인플레이션_미국       212.0  0.002090  0.004153  -0.019130 -0.000122  0.001977   \n",
       "CPI인플레이션_캐나다      212.0  0.001769  0.003939  -0.010368 -0.000814  0.001675   \n",
       "금리갭_캐나다한국         213.0 -0.929577  0.748642  -2.250000 -1.500000 -0.750000   \n",
       "금리갭_캐나다미국         213.0  0.171362  0.636782  -1.000000 -0.250000  0.125000   \n",
       "금리갭_미국한국          213.0 -1.100939  1.290131  -3.250000 -2.375000 -0.875000   \n",
       "명목GDP대비외환보유액_한국   213.0  0.250741  0.020961   0.171012  0.242883  0.251102   \n",
       "명목GDP대비외환보유액_캐나다  213.0  0.042269  0.009445   0.026576  0.034644  0.041097   \n",
       "실질GDP대비외환보유액_한국   211.0  0.212044  0.019438   0.150679  0.200482  0.218150   \n",
       "실질GDP대비외환보유액_캐나다  211.0  0.038249  0.009030   0.020900  0.031517  0.040880   \n",
       "외환보유비중            213.0  5.023364  0.643606   4.109964  4.626348  4.789306   \n",
       "외환보유증감_한국         212.0  0.003830  0.015102  -0.114402 -0.001534  0.004039   \n",
       "외환보유증감_캐나다        212.0  0.005686  0.027620  -0.045671 -0.009037  0.003062   \n",
       "실질환율_KRWUSD       213.0  0.753165  0.060664   0.518147  0.724897  0.759941   \n",
       "실질환율_CADUSD       213.0  1.056191  0.117859   0.879176  0.953359  1.025496   \n",
       "실질환율_KRWCAD       213.0  0.720526  0.088081   0.526252  0.628645  0.745202   \n",
       "환율_CADKRW_RET     212.0  0.001346  0.028152  -0.136799 -0.013200  0.001089   \n",
       "환율_CADUSD_RET     212.0  0.000503  0.025493  -0.073523 -0.016000 -0.000698   \n",
       "환율_KRWUSD_RET     212.0  0.001608  0.030986  -0.151885 -0.014547  0.000538   \n",
       "환율_RET3           210.0  0.003678  0.039569  -0.095235 -0.022611  0.004224   \n",
       "\n",
       "                       75%        max  \n",
       "경제성장율_미국          0.800000   7.500000  \n",
       "경제성장율_캐나다         1.000000   9.000000  \n",
       "경제성장율_한국          1.200000   3.000000  \n",
       "국채1년물_미국          2.240000   5.210000  \n",
       "국채1년물_한국          3.480000   5.670000  \n",
       "기준금리_미국           2.125000   5.250000  \n",
       "기준금리_캐나다          1.750000   4.500000  \n",
       "기준금리_한국           3.250000   5.250000  \n",
       "실업률_미국            7.800000  14.700000  \n",
       "실업률_캐나다           7.400000  13.400000  \n",
       "실업률_한국            3.700000   5.200000  \n",
       "명목GDP대비경상수지_미국   -0.005581  -0.003820  \n",
       "명목GDP대비경상수지_캐나다   0.001100   0.009129  \n",
       "명목GDP대비경상수지_한국    0.004984   0.008465  \n",
       "실질GDP대비경상수지_미국   -0.005419  -0.003838  \n",
       "실질GDP대비경상수지_캐나다   0.000720   0.006851  \n",
       "실질GDP대비경상수지_한국    0.004394   0.007353  \n",
       "CPI인플레이션_한국       0.003979   0.011879  \n",
       "CPI인플레이션_미국       0.004694   0.013726  \n",
       "CPI인플레이션_캐나다      0.004299   0.014361  \n",
       "금리갭_캐나다한국        -0.250000   0.500000  \n",
       "금리갭_캐나다미국         0.875000   1.375000  \n",
       "금리갭_미국한국          0.000000   1.000000  \n",
       "명목GDP대비외환보유액_한국   0.259529   0.310846  \n",
       "명목GDP대비외환보유액_캐나다  0.051034   0.064749  \n",
       "실질GDP대비외환보유액_한국   0.224001   0.248696  \n",
       "실질GDP대비외환보유액_캐나다  0.044308   0.055035  \n",
       "외환보유비중            5.101765   6.815047  \n",
       "외환보유증감_한국         0.009500   0.067245  \n",
       "외환보유증감_캐나다        0.012897   0.181155  \n",
       "실질환율_KRWUSD       0.793193   0.857421  \n",
       "실질환율_CADUSD       1.161364   1.286668  \n",
       "실질환율_KRWCAD       0.795217   0.869708  \n",
       "환율_CADKRW_RET     0.017340   0.118471  \n",
       "환율_CADUSD_RET     0.014417   0.146239  \n",
       "환율_KRWUSD_RET     0.014324   0.148134  \n",
       "환율_RET3           0.028566   0.168949  "
      ]
     },
     "execution_count": 71,
     "metadata": {},
     "output_type": "execute_result"
    }
   ],
   "source": [
    "df.describe().T"
   ]
  },
  {
   "cell_type": "markdown",
   "id": "50967213",
   "metadata": {},
   "source": [
    "### 4-1) ratio 지표는  %단위로"
   ]
  },
  {
   "cell_type": "code",
   "execution_count": 72,
   "id": "476df049",
   "metadata": {},
   "outputs": [
    {
     "data": {
      "text/plain": [
       "Index(['경제성장율_미국', '경제성장율_캐나다', '경제성장율_한국', '국채1년물_미국', '국채1년물_한국', '기준금리_미국',\n",
       "       '기준금리_캐나다', '기준금리_한국', '실업률_미국', '실업률_캐나다', '실업률_한국', '명목GDP대비경상수지_미국',\n",
       "       '명목GDP대비경상수지_캐나다', '명목GDP대비경상수지_한국', '실질GDP대비경상수지_미국',\n",
       "       '실질GDP대비경상수지_캐나다', '실질GDP대비경상수지_한국', 'CPI인플레이션_한국', 'CPI인플레이션_미국',\n",
       "       'CPI인플레이션_캐나다', '금리갭_캐나다한국', '금리갭_캐나다미국', '금리갭_미국한국', '명목GDP대비외환보유액_한국',\n",
       "       '명목GDP대비외환보유액_캐나다', '실질GDP대비외환보유액_한국', '실질GDP대비외환보유액_캐나다', '외환보유비중',\n",
       "       '외환보유증감_한국', '외환보유증감_캐나다', '실질환율_KRWUSD', '실질환율_CADUSD', '실질환율_KRWCAD',\n",
       "       '환율_CADKRW_RET', '환율_CADUSD_RET', '환율_KRWUSD_RET', '환율_RET3'],\n",
       "      dtype='object')"
      ]
     },
     "execution_count": 72,
     "metadata": {},
     "output_type": "execute_result"
    }
   ],
   "source": [
    "df.columns"
   ]
  },
  {
   "cell_type": "code",
   "execution_count": 73,
   "id": "52bf9be2",
   "metadata": {},
   "outputs": [],
   "source": [
    "fmt_conv_features = ['환율_RET3','환율_KRWUSD_RET','환율_CADUSD_RET','환율_CADKRW_RET',\n",
    "                             'CPI인플레이션_한국','CPI인플레이션_미국','CPI인플레이션_캐나다']\n",
    "for c in fmt_conv_features:\n",
    "    df[c] = df[c]*100"
   ]
  },
  {
   "cell_type": "markdown",
   "id": "6a199248",
   "metadata": {},
   "source": [
    "### 4-2) 항목별 3개월 수익율과 관계 확인 "
   ]
  },
  {
   "cell_type": "code",
   "execution_count": null,
   "id": "b4f8f65e",
   "metadata": {},
   "outputs": [],
   "source": [
    "y = df['환율_RET3']\n",
    "y_name = y.name\n",
    "for c in df.columns:\n",
    "    x = df[c]\n",
    "\n",
    "    x_name = x.name\n",
    "    sns.jointplot(x=x_name, y=y_name, data=df,\n",
    "                      kind=\"reg\", truncate=False,\n",
    "                      color=\"m\", height=5)\n",
    "plt.show()"
   ]
  },
  {
   "cell_type": "code",
   "execution_count": null,
   "id": "cf5e61a6",
   "metadata": {},
   "outputs": [],
   "source": [
    "importances = df.drop('환율_RET3',1).apply(lambda x: x.corr(y)) #변수별 corr 계산하고 \n",
    "indices = np.argsort(importances) # 정리해서 \n",
    "corr_df = importances[indices] #결과에 넣고 \n",
    "plt.figure(figsize=(10,10))\n",
    "plt.title(f'{periods}개월 수익율과  상관계수')\n",
    "plt.barh(range(len(indices)), importances[indices], color='r', align='center')\n",
    "plt.yticks(range(len(indices)), corr_df.index)\n",
    "plt.xlabel('Relative Importance')\n",
    "plt.show()"
   ]
  },
  {
   "cell_type": "markdown",
   "id": "d0c87063",
   "metadata": {},
   "source": [
    "> 경상수지 / 외환보유비중 / 기준금리 등이 영향도가 큰 것으로 보임  "
   ]
  },
  {
   "cell_type": "markdown",
   "id": "00958d48",
   "metadata": {},
   "source": [
    "### 4-3. Feature 간 관계"
   ]
  },
  {
   "cell_type": "code",
   "execution_count": null,
   "id": "31692ece",
   "metadata": {},
   "outputs": [],
   "source": [
    "corr = df.corr()\n",
    "mask = np.triu(np.ones_like(corr, dtype=bool))\n",
    "f, ax = plt.subplots(figsize=(11, 9))\n",
    "cmap = sns.diverging_palette(230, 20, as_cmap=True)\n",
    "sns.heatmap(corr, mask=mask, cmap=cmap, vmax=1, vmin = -1, center=0,\n",
    "            square=True, linewidths=.5, cbar_kws={\"shrink\": .5})\n",
    "plt.show()"
   ]
  },
  {
   "cell_type": "code",
   "execution_count": null,
   "id": "b242e76e",
   "metadata": {},
   "outputs": [],
   "source": [
    "i = 4\n",
    "x_name = df.columns[i]\n",
    "y = df['환율_RET3']\n",
    "plt.figure(figsize = (12,2))\n",
    "plt.plot(y, label = '수익률')\n",
    "plt.plot(df[x_name], label = x_name)\n",
    "plt.legend()\n",
    "plt.show()\n",
    "\n",
    "plt.figure(figsize = (12,2))\n",
    "plt.plot((y-np.min(y))/(np.max(y) - np.min(y)), label = '수익률')\n",
    "plt.plot((df[x_name]-np.min(df[x_name]))/(np.max(df[x_name]) - np.min(df[x_name])), label = x_name)\n",
    "plt.legend()\n",
    "plt.show()"
   ]
  },
  {
   "cell_type": "markdown",
   "id": "ed9c0028",
   "metadata": {},
   "source": [
    "### 4-4. 변수별 p value"
   ]
  },
  {
   "cell_type": "code",
   "execution_count": null,
   "id": "e215ff89",
   "metadata": {},
   "outputs": [],
   "source": [
    "import statsmodels.api as sm"
   ]
  },
  {
   "cell_type": "code",
   "execution_count": null,
   "id": "d2e0d0f0",
   "metadata": {},
   "outputs": [],
   "source": [
    "sample_df = df.copy()\n",
    "sample_df.dropna(inplace = True)"
   ]
  },
  {
   "cell_type": "code",
   "execution_count": null,
   "id": "f872d93c",
   "metadata": {},
   "outputs": [],
   "source": [
    "X = sample_df.iloc[:,:-1]"
   ]
  },
  {
   "cell_type": "code",
   "execution_count": null,
   "id": "bc9d764b",
   "metadata": {},
   "outputs": [],
   "source": [
    "y = sample_df.iloc[:,-1]"
   ]
  },
  {
   "cell_type": "code",
   "execution_count": null,
   "id": "6b396d01",
   "metadata": {},
   "outputs": [],
   "source": [
    "coef_df = {'Feature':[],'Coef':[],'R^2':[],'p-values':[]}"
   ]
  },
  {
   "cell_type": "code",
   "execution_count": null,
   "id": "b36a2703",
   "metadata": {},
   "outputs": [],
   "source": [
    "coef_df['Feature']"
   ]
  },
  {
   "cell_type": "code",
   "execution_count": null,
   "id": "aecc9e0d",
   "metadata": {},
   "outputs": [],
   "source": [
    "# 단일변수 회귀계수는?\n",
    "coef_dict = {'Feature':[],'Coef':[],'R^2':[],'p-values':[]}\n",
    "for c in X.columns:\n",
    "    x = X[c]\n",
    "    x = sm.add_constant(x)\n",
    "    results = sm.OLS(y, x).fit()\n",
    "\n",
    "    coef_dict['Feature'].append(c)\n",
    "    coef_dict['Coef'].append(results.params[1])\n",
    "    coef_dict['R^2'].append(results.rsquared  )\n",
    "    coef_dict['p-values'].append(results.pvalues[1])\n",
    "coef_df = pd.DataFrame(coef_dict)    "
   ]
  },
  {
   "cell_type": "code",
   "execution_count": null,
   "id": "c8035356",
   "metadata": {
    "scrolled": true
   },
   "outputs": [],
   "source": [
    "pd.options.display.float_format = '{:.4f}'.format\n",
    "coef_df.sort_values(by = 'p-values')"
   ]
  },
  {
   "cell_type": "markdown",
   "id": "b32fedc6",
   "metadata": {},
   "source": [
    "> 이중에서 일단 전혀 의미없어 보이는 것들은 좀 제외하고..  \n",
    "변수 선정을 한 후에 모형으로 넘어가겠음  "
   ]
  },
  {
   "cell_type": "markdown",
   "id": "8468f5d7",
   "metadata": {},
   "source": [
    "##"
   ]
  }
 ],
 "metadata": {
  "jupytext": {
   "formats": "ipynb,auto:light"
  },
  "kernelspec": {
   "display_name": "Python 3 (ipykernel)",
   "language": "python",
   "name": "python3"
  },
  "language_info": {
   "codemirror_mode": {
    "name": "ipython",
    "version": 3
   },
   "file_extension": ".py",
   "mimetype": "text/x-python",
   "name": "python",
   "nbconvert_exporter": "python",
   "pygments_lexer": "ipython3",
   "version": "3.9.12"
  }
 },
 "nbformat": 4,
 "nbformat_minor": 5
}
